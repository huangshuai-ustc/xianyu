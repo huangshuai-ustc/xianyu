{
 "cells": [
  {
   "cell_type": "code",
   "id": "initial_id",
   "metadata": {
    "collapsed": true,
    "ExecuteTime": {
     "end_time": "2024-04-22T06:57:12.882883Z",
     "start_time": "2024-04-22T06:57:12.870230Z"
    }
   },
   "source": [
    "def cycle(input_list):\n",
    "    first = input_list[0]\n",
    "    for i in range(len(input_list)-1):\n",
    "        input_list[i] = input_list[i+1]\n",
    "    input_list[-1] = first\n",
    "x = [1,2,3,4]\n",
    "cycle(x)\n",
    "x"
   ],
   "outputs": [
    {
     "data": {
      "text/plain": [
       "[2, 3, 4, 1]"
      ]
     },
     "execution_count": 2,
     "metadata": {},
     "output_type": "execute_result"
    }
   ],
   "execution_count": 2
  },
  {
   "metadata": {
    "ExecuteTime": {
     "end_time": "2024-04-22T06:57:12.913167Z",
     "start_time": "2024-04-22T06:57:12.884418Z"
    }
   },
   "cell_type": "code",
   "source": [
    "def wordlist(sent):\n",
    "    l = sent.split(' ')\n",
    "    result = []\n",
    "    for i in l:\n",
    "        if i.isalnum():\n",
    "            result.append(i)\n",
    "        else:\n",
    "            break\n",
    "    return result\n",
    "print(wordlist('How much wood could a ** chuck'))\n",
    "print(wordlist('- as much wood as a woodchuck could chuck!'))\n",
    "print(wordlist('I h8 being l8 m8!'))"
   ],
   "id": "e0a4a6a07f34d5b2",
   "outputs": [
    {
     "name": "stdout",
     "output_type": "stream",
     "text": [
      "['How', 'much', 'wood', 'could', 'a']\n",
      "[]\n",
      "['I', 'h8', 'being', 'l8']\n"
     ]
    }
   ],
   "execution_count": 3
  },
  {
   "metadata": {
    "ExecuteTime": {
     "end_time": "2024-04-22T06:57:12.928242Z",
     "start_time": "2024-04-22T06:57:12.915167Z"
    }
   },
   "cell_type": "code",
   "source": [
    "def sorted_words(wordlist):\n",
    "    sorted_list = [word for word in wordlist if list(word) == sorted(word)]\n",
    "    return sorted(sorted_list)\n",
    "\n",
    "test_cases = [\"bet\", \"abacus\", \"act\", \"celebration\", \"door\"]\n",
    "\n",
    "results = sorted_words(test_cases)\n",
    "results"
   ],
   "id": "fd19dc80df5ebcca",
   "outputs": [
    {
     "data": {
      "text/plain": [
       "['act', 'bet', 'door']"
      ]
     },
     "execution_count": 4,
     "metadata": {},
     "output_type": "execute_result"
    }
   ],
   "execution_count": 4
  },
  {
   "metadata": {
    "ExecuteTime": {
     "end_time": "2024-04-22T06:57:12.943786Z",
     "start_time": "2024-04-22T06:57:12.933274Z"
    }
   },
   "cell_type": "code",
   "source": [
    "def middle_words(word_list):\n",
    "    length = len(word_list)\n",
    "    if length % 2 == 0:\n",
    "        return word_list[length//2-1:length//2+1]\n",
    "    else:\n",
    "        return [word_list[length//2]]\n",
    "middle_words(['a','b','c','e','f','g'])"
   ],
   "id": "6056cf9eba6a806e",
   "outputs": [
    {
     "data": {
      "text/plain": [
       "['c', 'e']"
      ]
     },
     "execution_count": 5,
     "metadata": {},
     "output_type": "execute_result"
    }
   ],
   "execution_count": 5
  },
  {
   "metadata": {
    "ExecuteTime": {
     "end_time": "2024-04-22T06:57:12.959893Z",
     "start_time": "2024-04-22T06:57:12.945783Z"
    }
   },
   "cell_type": "code",
   "source": [
    "def long_high_word(wordlist):\n",
    "    longest_word = ''\n",
    "    for word in wordlist:\n",
    "        if len(word) > len(longest_word):\n",
    "            longest_word = word\n",
    "        if len(word) == len(longest_word):\n",
    "            if word.encode('utf-8') > longest_word.encode('utf-8'):\n",
    "                longest_word = word\n",
    "    return longest_word\n",
    "\n",
    "print(long_high_word(['a', 'cat', 'sat']))\n",
    "print(long_high_word(['satsasaad','dada','ww']))\n",
    "print(long_high_word(['g', 'a','b','c','d','e','f']))\n",
    "print(long_high_word(['a']))"
   ],
   "id": "8c19d706657da896",
   "outputs": [
    {
     "name": "stdout",
     "output_type": "stream",
     "text": [
      "sat\n",
      "satsasaad\n",
      "g\n",
      "a\n"
     ]
    }
   ],
   "execution_count": 6
  }
 ],
 "metadata": {
  "kernelspec": {
   "display_name": "Python 3",
   "language": "python",
   "name": "python3"
  },
  "language_info": {
   "codemirror_mode": {
    "name": "ipython",
    "version": 2
   },
   "file_extension": ".py",
   "mimetype": "text/x-python",
   "name": "python",
   "nbconvert_exporter": "python",
   "pygments_lexer": "ipython2",
   "version": "2.7.6"
  }
 },
 "nbformat": 4,
 "nbformat_minor": 5
}
