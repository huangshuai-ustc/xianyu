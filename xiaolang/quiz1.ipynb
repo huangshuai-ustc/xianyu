{
 "cells": [
  {
   "cell_type": "code",
   "source": [
    "str1 = input(\"Enter your name, soldier: \")\n",
    "if str1 == '':\n",
    "    print(\"A luddite! GO AWAY AT ONCE!\")\n",
    "elif str1.isdigit() and 0 <= int(str1) <= 2:\n",
    "    print(\"HAHA! You may not pass!!\")\n",
    "else:\n",
    "    print(\"Welcome to the camp, \" + str1 + \", if that really is your name.\")"
   ],
   "metadata": {
    "collapsed": false,
    "ExecuteTime": {
     "end_time": "2024-04-22T06:57:22.967806Z",
     "start_time": "2024-04-22T06:57:21.599868Z"
    }
   },
   "id": "8a3523f31665eed1",
   "outputs": [
    {
     "name": "stdout",
     "output_type": "stream",
     "text": [
      "A luddite! GO AWAY AT ONCE!\n"
     ]
    }
   ],
   "execution_count": 1
  },
  {
   "cell_type": "code",
   "source": [
    "month = eval(input(\"Enter the month (1-12): \"))\n",
    "if month in [1,2,12]:\n",
    "    print(\"It's summer. Have fun in the sun!\")\n",
    "elif month in [3,4,5]:\n",
    "    print(\"It's autumn. Enjoy the beautiful sunsets!\")\n",
    "elif month in [6,7,8]:\n",
    "    print(\"It's winter. Go skiing!\")\n",
    "elif month in [9,10,11]:\n",
    "    print(\"It's spring. Check out the spring racing carnival!\")\n",
    "else:\n",
    "    print(\"Invalid input. Please enter any number between 1 and 12.\")"
   ],
   "metadata": {
    "collapsed": false,
    "ExecuteTime": {
     "end_time": "2024-04-22T06:57:24.112444Z",
     "start_time": "2024-04-22T06:57:22.970745Z"
    }
   },
   "id": "d4cd2f5d054ecc3d",
   "outputs": [
    {
     "ename": "SyntaxError",
     "evalue": "unexpected EOF while parsing (<string>, line 0)",
     "output_type": "error",
     "traceback": [
      "Traceback \u001B[1;36m(most recent call last)\u001B[0m:\n",
      "\u001B[0m  File \u001B[0;32m~\\miniconda3\\envs\\test\\lib\\site-packages\\IPython\\core\\interactiveshell.py:3550\u001B[0m in \u001B[0;35mrun_code\u001B[0m\n    exec(code_obj, self.user_global_ns, self.user_ns)\u001B[0m\n",
      "\u001B[1;36m  Cell \u001B[1;32mIn[2], line 1\u001B[1;36m\n\u001B[1;33m    month = eval(input(\"Enter the month (1-12): \"))\u001B[1;36m\n",
      "\u001B[1;36m  File \u001B[1;32m<string>\u001B[1;36m\u001B[0m\n\u001B[1;33m    \u001B[0m\n\u001B[1;37m    ^\u001B[0m\n\u001B[1;31mSyntaxError\u001B[0m\u001B[1;31m:\u001B[0m unexpected EOF while parsing\n"
     ]
    }
   ],
   "execution_count": 2
  },
  {
   "cell_type": "code",
   "source": [
    "name = input('What is your name? ')\n",
    "name = name[-1::-1]\n",
    "print(\"Well hello there, \" + name)"
   ],
   "metadata": {
    "collapsed": false,
    "ExecuteTime": {
     "end_time": "2024-04-22T06:57:24.114443Z",
     "start_time": "2024-04-22T06:57:24.113444Z"
    }
   },
   "id": "1c6dcaa4079a0a73",
   "outputs": [],
   "execution_count": null
  },
  {
   "cell_type": "code",
   "source": [
    "phrase = input(\"Enter a phrase: \") or ''\n",
    "if phrase and phrase.lower()[0] in ['a','e','i','o','u']:\n",
    "    print(\"an \" + phrase)\n",
    "else:\n",
    "    print(\"a \" + phrase)"
   ],
   "metadata": {
    "collapsed": false
   },
   "id": "a950210590dac493",
   "outputs": [],
   "execution_count": null
  }
 ],
 "metadata": {
  "kernelspec": {
   "display_name": "Python 3",
   "language": "python",
   "name": "python3"
  },
  "language_info": {
   "codemirror_mode": {
    "name": "ipython",
    "version": 2
   },
   "file_extension": ".py",
   "mimetype": "text/x-python",
   "name": "python",
   "nbconvert_exporter": "python",
   "pygments_lexer": "ipython2",
   "version": "2.7.6"
  }
 },
 "nbformat": 4,
 "nbformat_minor": 5
}
