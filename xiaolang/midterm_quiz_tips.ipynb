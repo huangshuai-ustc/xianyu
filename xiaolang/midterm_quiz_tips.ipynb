{
 "cells": [
  {
   "cell_type": "code",
   "id": "initial_id",
   "metadata": {
    "collapsed": true,
    "ExecuteTime": {
     "end_time": "2024-04-15T02:21:15.761981Z",
     "start_time": "2024-04-15T02:21:15.742896Z"
    }
   },
   "source": [
    "a: int = 1\n",
    "b: float = 2.1\n",
    "c: str = \"hello\"\n",
    "d: bool = True"
   ],
   "outputs": [],
   "execution_count": 1
  },
  {
   "metadata": {},
   "cell_type": "code",
   "outputs": [],
   "execution_count": null,
   "source": "",
   "id": "f7bf79d3e7c17b32"
  },
  {
   "metadata": {
    "ExecuteTime": {
     "end_time": "2024-04-15T02:21:17.862935Z",
     "start_time": "2024-04-15T02:21:17.850410Z"
    }
   },
   "cell_type": "code",
   "source": [
    "a = float(a)\n",
    "b = int(b)\n",
    "c = bool(c)\n",
    "d = int(d)"
   ],
   "id": "542be452f4e0e55b",
   "outputs": [],
   "execution_count": 2
  },
  {
   "metadata": {
    "ExecuteTime": {
     "end_time": "2024-04-15T01:13:48.080314Z",
     "start_time": "2024-04-15T01:13:48.067789Z"
    }
   },
   "cell_type": "code",
   "source": [
    "l: list = [1, 2.1, 3, \"hello\", True, [1,2,3]]\n",
    "t: tuple = (1, 2.1, 3, \"hello\", True, [1,2,3])\n",
    "# l[3]\n",
    "# l[:3] # l[0], l[1], l[2] [0,3)\n",
    "# print(l[:3] == l[0:3])\n",
    "# l[4:]\n",
    "# l[-2:]\n",
    "print(l[1:100])"
   ],
   "id": "830afcedb039d1c6",
   "outputs": [
    {
     "name": "stdout",
     "output_type": "stream",
     "text": [
      "[2.1, 3, 'hello', True, [1, 2, 3]]\n"
     ]
    }
   ],
   "execution_count": 11
  },
  {
   "metadata": {
    "ExecuteTime": {
     "end_time": "2024-04-15T01:19:14.832641Z",
     "start_time": "2024-04-15T01:19:12.482631Z"
    }
   },
   "cell_type": "code",
   "source": [
    "i = eval(input(\"Enter a number: \"))\n",
    "print(type(i))\n",
    "# print(\"the number is: \" + i)\n",
    "print(\"the number is: {}\".format(i))\n",
    "print(f\"the number is: {i}\")\n",
    "print(i)"
   ],
   "id": "3a686531a9f128c1",
   "outputs": [
    {
     "name": "stdout",
     "output_type": "stream",
     "text": [
      "<class 'int'>\n",
      "the number is: 6\n",
      "the number is: 6\n",
      "6\n"
     ]
    }
   ],
   "execution_count": 16
  },
  {
   "metadata": {
    "ExecuteTime": {
     "end_time": "2024-04-15T01:35:31.819123Z",
     "start_time": "2024-04-15T01:35:31.802287Z"
    }
   },
   "cell_type": "code",
   "source": [
    "nums = [1]\n",
    "nice = sum(nums) == len(nums) * len(nums)\n",
    "print(nice)"
   ],
   "id": "2b90b653c42a3756",
   "outputs": [
    {
     "name": "stdout",
     "output_type": "stream",
     "text": [
      "True\n"
     ]
    }
   ],
   "execution_count": 21
  },
  {
   "metadata": {
    "ExecuteTime": {
     "end_time": "2024-04-15T01:45:20.194357Z",
     "start_time": "2024-04-15T01:45:20.183846Z"
    }
   },
   "cell_type": "code",
   "source": [
    "text = \"Suppose that text is a Python string.\"\n",
    "x = text.split(\" \")\n",
    "print(x)\n",
    "wrds = len(text.split())\n",
    "# print(wrds)\n",
    "print(\" \".join(x))"
   ],
   "id": "f600339f5239a5ea",
   "outputs": [
    {
     "name": "stdout",
     "output_type": "stream",
     "text": [
      "['Suppose', 'that', 'text', 'is', 'a', 'Python', 'string.']\n",
      "Suppose that text is a Python string.\n"
     ]
    }
   ],
   "execution_count": 26
  },
  {
   "metadata": {
    "ExecuteTime": {
     "end_time": "2024-04-15T01:39:37.489228Z",
     "start_time": "2024-04-15T01:39:37.475087Z"
    }
   },
   "cell_type": "code",
   "source": [
    "f = {\"a\": 1, \"b\": 2, \"c\": [1,2,3]}\n",
    "print(f[\"c\"])\n",
    "for i, j in f.items():\n",
    "    print(i, j)"
   ],
   "id": "f4dc50afc42cb8fc",
   "outputs": [
    {
     "name": "stdout",
     "output_type": "stream",
     "text": [
      "[1, 2, 3]\n",
      "a 1\n",
      "b 2\n",
      "c [1, 2, 3]\n"
     ]
    }
   ],
   "execution_count": 25
  },
  {
   "metadata": {
    "ExecuteTime": {
     "end_time": "2024-04-15T01:55:23.147483Z",
     "start_time": "2024-04-15T01:55:23.131974Z"
    }
   },
   "cell_type": "code",
   "source": [
    "text = \"Ints -34 there and here +551 but not here88\"\n",
    "texts = text.split()\n",
    "for (i, j) in enumerate(texts):\n",
    "    print(i, j)\n",
    "def text_ints(text: str) -> int:\n",
    "    count = 0\n",
    "    texts = text.split()\n",
    "    for y in texts:\n",
    "        y = y.replace(\"+\", \"\").replace(\"-\", \"\")\n",
    "        if y.isdigit():\n",
    "            count += 1\n",
    "    return count"
   ],
   "id": "4f7d0e9c1fe22530",
   "outputs": [
    {
     "name": "stdout",
     "output_type": "stream",
     "text": [
      "0 Ints\n",
      "1 -34\n",
      "2 there\n",
      "3 and\n",
      "4 here\n",
      "5 +551\n",
      "6 but\n",
      "7 not\n",
      "8 here88\n"
     ]
    }
   ],
   "execution_count": 27
  },
  {
   "metadata": {
    "ExecuteTime": {
     "end_time": "2024-04-15T02:21:54.010459Z",
     "start_time": "2024-04-15T02:21:53.995549Z"
    }
   },
   "cell_type": "code",
   "source": [
    "h = tuple('abc') + (4,)\n",
    "h"
   ],
   "id": "8dce3aca30c86ff6",
   "outputs": [
    {
     "data": {
      "text/plain": [
       "('a', 'b', 'c', 4)"
      ]
     },
     "execution_count": 4,
     "metadata": {},
     "output_type": "execute_result"
    }
   ],
   "execution_count": 4
  },
  {
   "metadata": {
    "ExecuteTime": {
     "end_time": "2024-04-15T03:33:52.900346Z",
     "start_time": "2024-04-15T03:33:52.853206Z"
    }
   },
   "cell_type": "code",
   "source": [
    "print(2/4)\n",
    "print(2//4)\n",
    "print(2%4)"
   ],
   "id": "606b73e53dce06db",
   "outputs": [
    {
     "name": "stdout",
     "output_type": "stream",
     "text": [
      "0.5\n",
      "0\n",
      "2\n"
     ]
    }
   ],
   "execution_count": 1
  },
  {
   "metadata": {},
   "cell_type": "code",
   "outputs": [],
   "execution_count": null,
   "source": "",
   "id": "d426cebf9bfdad1e"
  }
 ],
 "metadata": {
  "kernelspec": {
   "display_name": "Python 3",
   "language": "python",
   "name": "python3"
  },
  "language_info": {
   "codemirror_mode": {
    "name": "ipython",
    "version": 2
   },
   "file_extension": ".py",
   "mimetype": "text/x-python",
   "name": "python",
   "nbconvert_exporter": "python",
   "pygments_lexer": "ipython2",
   "version": "2.7.6"
  }
 },
 "nbformat": 4,
 "nbformat_minor": 5
}
