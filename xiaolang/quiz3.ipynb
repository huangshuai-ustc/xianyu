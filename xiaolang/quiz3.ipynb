{
 "cells": [
  {
   "cell_type": "code",
   "id": "initial_id",
   "metadata": {
    "collapsed": true,
    "ExecuteTime": {
     "end_time": "2024-04-22T06:56:48.212218Z",
     "start_time": "2024-04-22T06:56:48.194092Z"
    }
   },
   "source": [
    "# Duplicate Word\n",
    "def repeat_word_count(words, number):\n",
    "    word_list = words.split()\n",
    "    word_dict = {}\n",
    "    words = []\n",
    "    for word in word_list:\n",
    "        if word in word_dict:\n",
    "            word_dict[word] += 1\n",
    "        else:\n",
    "            word_dict[word] = 1\n",
    "    for word in word_dict:\n",
    "        if word_dict[word] >= number:\n",
    "            words.append(word)\n",
    "    return sorted(words)\n",
    "print(repeat_word_count(\"buffalo buffalo buffalo buffalo\", 2))\n",
    "print(repeat_word_count(\"one one was a racehorse two two was one too\", 3))\n",
    "print(repeat_word_count(\"how much wood could a wood chuck chuck\", 1))"
   ],
   "outputs": [
    {
     "name": "stdout",
     "output_type": "stream",
     "text": [
      "['buffalo']\n",
      "['one']\n",
      "['a', 'chuck', 'could', 'how', 'much', 'wood']\n"
     ]
    }
   ],
   "execution_count": 46
  },
  {
   "metadata": {
    "ExecuteTime": {
     "end_time": "2024-04-22T06:56:48.227883Z",
     "start_time": "2024-04-22T06:56:48.214125Z"
    }
   },
   "cell_type": "code",
   "source": [
    "# Mode List\n",
    "def mode(num_list):\n",
    "    word_dict = {}\n",
    "    words = []\n",
    "    for word in num_list:\n",
    "        if word in word_dict:\n",
    "            word_dict[word] += 1\n",
    "        else:\n",
    "            word_dict[word] = 1\n",
    "    max_value = max(word_dict.values())\n",
    "    for word in word_dict:\n",
    "        if word_dict[word] == max_value:\n",
    "            words.append(word)\n",
    "    return sorted(words)\n",
    "print(mode([2,0,1,0,2]))\n",
    "print(mode([5,1,1,5,1]))\n",
    "print(mode([4.0]))"
   ],
   "id": "2efe6fa2e553a32a",
   "outputs": [
    {
     "name": "stdout",
     "output_type": "stream",
     "text": [
      "[0, 2]\n",
      "[1]\n",
      "[4.0]\n"
     ]
    }
   ],
   "execution_count": 47
  },
  {
   "metadata": {
    "ExecuteTime": {
     "end_time": "2024-04-22T06:56:48.243145Z",
     "start_time": "2024-04-22T06:56:48.229757Z"
    }
   },
   "cell_type": "code",
   "source": [
    "# Capital City Testing\n",
    "def is_capital(city, country):\n",
    "    capitals = {\n",
    "        'New South Wales': 'Sydney',\n",
    "        'Queensland': 'Brisbane',\n",
    "        'South Australia': 'Adelaide',\n",
    "        'Tasmania': 'Hobart',\n",
    "        'Victoria': 'Melbourne',\n",
    "        'Western Australia': 'Perth'\n",
    "    }\n",
    "    if city not in capitals:\n",
    "        return False\n",
    "    if capitals[city] == country:\n",
    "        return True\n",
    "    else:\n",
    "        return False\n",
    "print(is_capital('Victoria', 'Melbourne'))\n",
    "print(is_capital('Queensland', 'Adelaide'))\n",
    "print(is_capital(' ',''))"
   ],
   "id": "5a8a8fe8e3cb13c2",
   "outputs": [
    {
     "name": "stdout",
     "output_type": "stream",
     "text": [
      "True\n",
      "False\n",
      "False\n"
     ]
    }
   ],
   "execution_count": 48
  },
  {
   "metadata": {
    "ExecuteTime": {
     "end_time": "2024-04-22T06:56:48.259170Z",
     "start_time": "2024-04-22T06:56:48.245143Z"
    }
   },
   "cell_type": "code",
   "source": [
    "# Mutual Friends\n",
    "def mutual_friends(friends1, friends2):\n",
    "    num = 0\n",
    "    for friend in friends1:\n",
    "        if friend in friends2:\n",
    "            num += 1\n",
    "    return num\n",
    "print(mutual_friends(['Bob', 'Joe'], ['Esmerelda']))\n",
    "print(mutual_friends(['Bob', 'Joe'], ['Bob', 'Joe']))\n",
    "print(mutual_friends(['Bob', 'Joe'], ['Bob', 'Joe', 'Keitha']))"
   ],
   "id": "aa355131a898441d",
   "outputs": [
    {
     "name": "stdout",
     "output_type": "stream",
     "text": [
      "0\n",
      "2\n",
      "2\n"
     ]
    }
   ],
   "execution_count": 49
  },
  {
   "metadata": {
    "ExecuteTime": {
     "end_time": "2024-04-22T06:56:48.275208Z",
     "start_time": "2024-04-22T06:56:48.261175Z"
    }
   },
   "cell_type": "code",
   "source": [
    "# The function of None return\n",
    "def mymax(num_list):\n",
    "    if len(num_list) == 0:\n",
    "        return None\n",
    "    else:\n",
    "        return max(num_list)\n",
    "print(mymax([3,4,5.0,7]))\n",
    "print(mymax([-1,8,-3,8]))\n",
    "print(mymax([]))"
   ],
   "id": "ec51c4a8fd8ce2c",
   "outputs": [
    {
     "name": "stdout",
     "output_type": "stream",
     "text": [
      "7\n",
      "8\n",
      "None\n"
     ]
    }
   ],
   "execution_count": 50
  },
  {
   "metadata": {
    "ExecuteTime": {
     "end_time": "2024-04-22T06:56:48.289862Z",
     "start_time": "2024-04-22T06:56:48.276210Z"
    }
   },
   "cell_type": "code",
   "source": [
    "# Top-5 Frequent Words\n",
    "def top5_words(words):\n",
    "    word_list = words.split()\n",
    "    word_dict = {}\n",
    "    words = []\n",
    "    def sort_key(item): return (-item[1], item[0])\n",
    "    for word in word_list:\n",
    "        if word in word_dict:\n",
    "            word_dict[word] += 1\n",
    "        else:\n",
    "            word_dict[word] = 1\n",
    "    if len(word_dict) <= 5:\n",
    "        word_dict = sorted(word_dict.items(), key=sort_key)\n",
    "        for i in word_dict:\n",
    "            words.append(i[0])\n",
    "    else:\n",
    "        word_dict = sorted(word_dict.items(), key=sort_key)\n",
    "        for i in word_dict:\n",
    "            words.append(i[0])\n",
    "        words = words[:5]\n",
    "    return words\n",
    "print(top5_words(\"one one was a racehorse two two was one too\"))\n",
    "print(top5_words(\"buffalo buffalo buffalo chicken buffalo\"))\n",
    "print(top5_words(\"the quick brown fox jumped over the lazy dog\"))"
   ],
   "id": "8f36da0839f5cc66",
   "outputs": [
    {
     "name": "stdout",
     "output_type": "stream",
     "text": [
      "['one', 'two', 'was', 'a', 'racehorse']\n",
      "['buffalo', 'chicken']\n",
      "['the', 'brown', 'dog', 'fox', 'jumped']\n"
     ]
    }
   ],
   "execution_count": 51
  },
  {
   "metadata": {
    "ExecuteTime": {
     "end_time": "2024-04-22T06:56:48.305355Z",
     "start_time": "2024-04-22T06:56:48.291840Z"
    }
   },
   "cell_type": "code",
   "source": [
    "# Multi-returning Function\n",
    "def maxby(num_list):\n",
    "    if len(num_list) == 0:\n",
    "        return (None, None)\n",
    "    elif len(num_list) == 1:\n",
    "        return (num_list[0], None)\n",
    "    else:\n",
    "        max_max_num = max(num_list)\n",
    "        max_index = num_list.index(max_max_num)\n",
    "        del num_list[max_index]\n",
    "        max_num = max(num_list)\n",
    "        return (max_max_num, max_max_num - max_num)\n",
    "print(maxby([3,4,5,7]))\n",
    "print(maxby([-1,8,-3,8]))\n",
    "print(maxby([1]))\n",
    "print(mymax([]))"
   ],
   "id": "76d238b2bb98a7f1",
   "outputs": [
    {
     "name": "stdout",
     "output_type": "stream",
     "text": [
      "(7, 2)\n",
      "(8, 0)\n",
      "(1, None)\n",
      "None\n"
     ]
    }
   ],
   "execution_count": 52
  },
  {
   "metadata": {
    "ExecuteTime": {
     "end_time": "2024-04-22T06:56:48.324403Z",
     "start_time": "2024-04-22T06:56:48.306355Z"
    }
   },
   "cell_type": "code",
   "source": [
    "# issorted Function\n",
    "def issorted(num_list):\n",
    "    if num_list == sorted(num_list):\n",
    "        return True\n",
    "    else:\n",
    "        return False\n",
    "print(issorted([3,4,4,5.0,7]))\n",
    "print(issorted([-1,8,-3,8]))\n",
    "print(issorted([1]))\n",
    "print(issorted([]))"
   ],
   "id": "c21761e08d61debf",
   "outputs": [
    {
     "name": "stdout",
     "output_type": "stream",
     "text": [
      "True\n",
      "False\n",
      "True\n",
      "True\n"
     ]
    }
   ],
   "execution_count": 53
  },
  {
   "metadata": {
    "ExecuteTime": {
     "end_time": "2024-04-22T06:56:48.336926Z",
     "start_time": "2024-04-22T06:56:48.329925Z"
    }
   },
   "cell_type": "code",
   "source": [
    "# Base-n Number Validation\n",
    "def basenum(num1, num2):\n",
    "    str_num1 = str(num1)\n",
    "    for i in str_num1:\n",
    "        if int(i) >= num2:\n",
    "            return False\n",
    "    return True\n",
    "print(basenum(12345, 2))\n",
    "print(basenum(12345, 8))\n",
    "print(basenum(10110, 2))\n",
    "print(basenum(9, 5))"
   ],
   "id": "dc74c5954407af41",
   "outputs": [
    {
     "name": "stdout",
     "output_type": "stream",
     "text": [
      "False\n",
      "True\n",
      "True\n",
      "False\n"
     ]
    }
   ],
   "execution_count": 54
  },
  {
   "metadata": {
    "ExecuteTime": {
     "end_time": "2024-04-22T06:56:48.352012Z",
     "start_time": "2024-04-22T06:56:48.339440Z"
    }
   },
   "cell_type": "code",
   "source": [
    "# Top-5 Words with lambda\n",
    "def top5_words(words):\n",
    "    word_list = words.split()\n",
    "    word_dict = {}\n",
    "    words = []\n",
    "    for word in word_list:\n",
    "        if word in word_dict:\n",
    "            word_dict[word] += 1\n",
    "        else:\n",
    "            word_dict[word] = 1\n",
    "    if len(word_dict) <= 5:\n",
    "        word_dict = sorted(word_dict.items(), key=lambda x: (-x[1], x[0]))\n",
    "        for i in word_dict:\n",
    "            words.append(i[0])\n",
    "    else:\n",
    "        word_dict = sorted(word_dict.items(), key=lambda x: (-x[1], x[0]))\n",
    "        for i in word_dict:\n",
    "            words.append(i[0])\n",
    "        words = words[:5]\n",
    "    return words\n",
    "print(top5_words(\"one one was a racehorse two two was one too\"))\n",
    "print(top5_words(\"buffalo buffalo buffalo chicken buffalo\"))\n",
    "print(top5_words(\"the quick brown fox jumped over the lazy dog\"))"
   ],
   "id": "6e22632157f78ab",
   "outputs": [
    {
     "name": "stdout",
     "output_type": "stream",
     "text": [
      "['one', 'two', 'was', 'a', 'racehorse']\n",
      "['buffalo', 'chicken']\n",
      "['the', 'brown', 'dog', 'fox', 'jumped']\n"
     ]
    }
   ],
   "execution_count": 55
  },
  {
   "metadata": {
    "ExecuteTime": {
     "end_time": "2024-04-22T06:56:48.368081Z",
     "start_time": "2024-04-22T06:56:48.352984Z"
    }
   },
   "cell_type": "code",
   "source": "",
   "id": "c31f036d86b70220",
   "outputs": [],
   "execution_count": 55
  }
 ],
 "metadata": {
  "kernelspec": {
   "display_name": "Python 3",
   "language": "python",
   "name": "python3"
  },
  "language_info": {
   "codemirror_mode": {
    "name": "ipython",
    "version": 2
   },
   "file_extension": ".py",
   "mimetype": "text/x-python",
   "name": "python",
   "nbconvert_exporter": "python",
   "pygments_lexer": "ipython2",
   "version": "2.7.6"
  }
 },
 "nbformat": 4,
 "nbformat_minor": 5
}
