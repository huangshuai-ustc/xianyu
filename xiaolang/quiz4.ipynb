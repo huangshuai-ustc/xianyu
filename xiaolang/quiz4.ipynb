{
 "cells": [
  {
   "cell_type": "code",
   "id": "initial_id",
   "metadata": {
    "collapsed": true,
    "ExecuteTime": {
     "end_time": "2024-04-28T07:02:12.499922Z",
     "start_time": "2024-04-28T07:02:12.479362Z"
    }
   },
   "source": [
    "# Triangle Leg Lengths\n",
    "from math import cos, sin, radians\n",
    "def triangle_legs(hyp, angle):\n",
    "    # calculate the length of the two legs\n",
    "    return tuple(sorted([hyp * cos(radians(angle)), \n",
    "                         hyp * sin(radians(angle))]))\n",
    "\n",
    "print(triangle_legs(1, 30))\n",
    "print(triangle_legs(5, 53.13010235415599))"
   ],
   "outputs": [
    {
     "name": "stdout",
     "output_type": "stream",
     "text": [
      "(0.49999999999999994, 0.8660254037844387)\n",
      "(2.999999999999999, 4.000000000000001)\n"
     ]
    }
   ],
   "execution_count": 40
  },
  {
   "metadata": {
    "ExecuteTime": {
     "end_time": "2024-04-28T07:09:38.110228Z",
     "start_time": "2024-04-28T07:09:38.093294Z"
    }
   },
   "cell_type": "code",
   "source": [
    "# Donald Trump's Speech\n",
    "from collections import defaultdict\n",
    "# defining auxiliary function to count word length\n",
    "def count_lengths(text):\n",
    "    count_length = defaultdict(int)\n",
    "    # Count the number of words by length\n",
    "    # write them into the dictionary\n",
    "    for word in text.split():\n",
    "        count_length[len(word)] += 1\n",
    "    return count_length\n",
    "\n",
    "def top5_word_lengths(text):\n",
    "    # get the dictionary of word length from count_lengths\n",
    "    count_length = count_lengths(text)\n",
    "    # sort the dictionary by value in descending order\n",
    "    sorted_length = sorted(count_length.items(), \n",
    "                           key=lambda x: (x[1], x[0]), reverse=True)\n",
    "    top5 = []\n",
    "    # get the top 5 word lengths\n",
    "    for i in sorted_length[:5]:\n",
    "        top5.append(i[0])\n",
    "    return top5\n",
    "\n",
    "print(count_lengths(\"one one was a racehorse two two was one too\"))\n",
    "print(top5_word_lengths(\"one one was a racehorse two two was one too\"))\n",
    "print(top5_word_lengths(\"buffalo buffalo buffalo chicken buffalo\"))\n",
    "print(top5_word_lengths(\"the quick brown fox jumped over a lazy dog\"))"
   ],
   "id": "eb07e3e12db6d256",
   "outputs": [
    {
     "name": "stdout",
     "output_type": "stream",
     "text": [
      "defaultdict(<class 'int'>, {3: 8, 1: 1, 9: 1})\n",
      "[3, 9, 1]\n",
      "[7]\n",
      "[3, 5, 4, 6, 1]\n"
     ]
    }
   ],
   "execution_count": 42
  },
  {
   "metadata": {
    "ExecuteTime": {
     "end_time": "2024-04-28T06:20:41.113138Z",
     "start_time": "2024-04-28T06:20:37.990240Z"
    }
   },
   "cell_type": "code",
   "source": [
    "# Visualising Factors\n",
    "# defining auxiliary function to calculate factors\n",
    "def judge_factors(n):\n",
    "    factors = [[i for i in range(1, n + 1) if n % i == 0]]\n",
    "    return factors[0]\n",
    "# defining main function to visualise factors\n",
    "def visualise_factors(n):\n",
    "    # iterate from 1 to n\n",
    "    for i in range(1, n+1):\n",
    "        # get its factors\n",
    "        factors = judge_factors(i)\n",
    "        for j in range(1, n+1):\n",
    "            # if j is a factor of i, print *, otherwise print -\n",
    "            if j in factors:\n",
    "                print(\"*\", end=\"\")\n",
    "            else:\n",
    "                print(\"-\", end=\"\")\n",
    "        # print a new line\n",
    "        print()\n",
    "# get the maximum number from keyboard\n",
    "limit = int(input('Maximum number to factorise: '))\n",
    "visualise_factors(limit)"
   ],
   "id": "966b94f9dd462e42",
   "outputs": [
    {
     "name": "stdout",
     "output_type": "stream",
     "text": [
      "*-------------------\n",
      "**------------------\n",
      "*-*-----------------\n",
      "**-*----------------\n",
      "*---*---------------\n",
      "***--*--------------\n",
      "*-----*-------------\n",
      "**-*---*------------\n",
      "*-*-----*-----------\n",
      "**--*----*----------\n",
      "*---------*---------\n",
      "****-*-----*--------\n",
      "*-----------*-------\n",
      "**----*------*------\n",
      "*-*-*---------*-----\n",
      "**-*---*-------*----\n",
      "*---------------*---\n",
      "***--*--*--------*--\n",
      "*-----------------*-\n",
      "**-**----*---------*\n"
     ]
    }
   ],
   "execution_count": 21
  },
  {
   "metadata": {
    "ExecuteTime": {
     "end_time": "2024-04-28T06:47:13.754490Z",
     "start_time": "2024-04-28T06:47:13.737404Z"
    }
   },
   "cell_type": "code",
   "source": [
    "# Matching Codons\n",
    "def matching_codons(complements, pool1, pool2):\n",
    "    match_list = []\n",
    "    # iterate the first pool\n",
    "    for codon1 in pool1:\n",
    "        # iterate the second pool\n",
    "        for codon2 in pool2:\n",
    "            # if the complement of codon1 is equal to codon2\n",
    "            if ''.join([complements[c] for c in codon1]) == codon2:\n",
    "                # append the pair of codons to the match_list\n",
    "                match_list.append((codon1, codon2))\n",
    "    return match_list\n",
    "complements = {'A':'T','C':'G','T':'A','G':'C'}\n",
    "pool1 = ['AAG','TAC','CGG','GAT','TTG','GTG','CAT','GGC','ATT','TCT']\n",
    "pool2 = ['TAA','CTA','AAC','TTC','AGA','CCC','CCG','GTA']\n",
    "print(matching_codons(complements, pool1, pool2))"
   ],
   "id": "afa4b56de9131e56",
   "outputs": [
    {
     "name": "stdout",
     "output_type": "stream",
     "text": [
      "[('AAG', 'TTC'), ('GAT', 'CTA'), ('TTG', 'AAC'), ('CAT', 'GTA'), ('GGC', 'CCG'), ('ATT', 'TAA'), ('TCT', 'AGA')]\n"
     ]
    }
   ],
   "execution_count": 36
  },
  {
   "metadata": {
    "ExecuteTime": {
     "end_time": "2024-04-28T06:27:16.167105Z",
     "start_time": "2024-04-28T06:27:16.153818Z"
    }
   },
   "cell_type": "code",
   "source": [
    "# image Grey Value\n",
    "def grey_value(image):\n",
    "    # set one_count to store the number of 1 in the image\n",
    "    one_count = 0\n",
    "    # iterate image pixels by row\n",
    "    for row in image:\n",
    "        # iterate image pixels by column\n",
    "        for column in row:\n",
    "            # if the pixel is 1, increment one_count\n",
    "            if column == 1:\n",
    "                one_count += 1\n",
    "    # return the ratio of 1(white pixel) in the image\n",
    "    return one_count / (len(image) * len(image[0]))\n",
    "print(grey_value([[0,1],[1,0]]))\n",
    "print(grey_value([[0,1,1,0],[1,0,1,1]]))"
   ],
   "id": "a02bca2ea3ad015d",
   "outputs": [
    {
     "data": {
      "text/plain": [
       "0.625"
      ]
     },
     "execution_count": 26,
     "metadata": {},
     "output_type": "execute_result"
    }
   ],
   "execution_count": 26
  }
 ],
 "metadata": {
  "kernelspec": {
   "display_name": "Python 3",
   "language": "python",
   "name": "python3"
  },
  "language_info": {
   "codemirror_mode": {
    "name": "ipython",
    "version": 2
   },
   "file_extension": ".py",
   "mimetype": "text/x-python",
   "name": "python",
   "nbconvert_exporter": "python",
   "pygments_lexer": "ipython2",
   "version": "2.7.6"
  }
 },
 "nbformat": 4,
 "nbformat_minor": 5
}
