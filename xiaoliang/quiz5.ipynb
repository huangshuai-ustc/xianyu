{
 "cells": [
  {
   "cell_type": "code",
   "id": "initial_id",
   "metadata": {
    "collapsed": true,
    "ExecuteTime": {
     "end_time": "2024-05-13T02:53:51.019796Z",
     "start_time": "2024-05-13T02:53:46.823392Z"
    }
   },
   "source": [
    "# Inside Image objects\n",
    "from PIL import Image\n",
    "\n",
    "def get_image_info(image_file):\n",
    "    image = Image.open(image_file)\n",
    "    width, height = image.size\n",
    "    mode = image.mode\n",
    "    print(f\"\\nSummary of {image_file}\")\n",
    "    print(f\"Mode: {mode}\")\n",
    "    print(f\"Width: {width}px\")\n",
    "    print(f\"Height: {height}px\")\n",
    "    \n",
    "\n",
    "file_name = input('Enter a filename: ')\n",
    "get_image_info(file_name)\n"
   ],
   "outputs": [
    {
     "name": "stdout",
     "output_type": "stream",
     "text": [
      "Mode: RGBA\n",
      "Width: 2880\n",
      "Height: 1800\n"
     ]
    }
   ],
   "execution_count": 11
  },
  {
   "metadata": {
    "ExecuteTime": {
     "end_time": "2024-05-13T03:28:35.594475Z",
     "start_time": "2024-05-13T03:28:35.575247Z"
    }
   },
   "cell_type": "code",
   "source": [
    "# Smile!\n",
    "from PIL import Image\n",
    "import numpy as np\n",
    "\n",
    "black_white = [[0, 0, 0, 0, 0, 0, 0, 0, 0],\n",
    "               [0, 0, 0, 1, 0, 1, 0, 0, 0],\n",
    "               [0, 0, 0, 1, 0, 1, 0, 0, 0],\n",
    "               [0, 0, 0, 0, 0, 0, 0, 0, 0],\n",
    "               [0, 0, 1, 0, 0, 0, 1, 0, 0],\n",
    "               [0, 0, 0, 1, 1, 1, 0, 0, 0],\n",
    "               [0, 0, 0, 0, 0, 0, 0, 0, 0]]\n",
    "arr = (np.array(black_white) * 255)\n",
    "im = Image.fromarray(arr)\n",
    "im = im.convert('RGB')\n",
    "im.save('smile.png')\n"
   ],
   "id": "9c7dff6a1b9697a3",
   "outputs": [],
   "execution_count": 18
  },
  {
   "metadata": {
    "ExecuteTime": {
     "end_time": "2024-05-13T06:31:47.517449Z",
     "start_time": "2024-05-13T06:31:47.504959Z"
    }
   },
   "cell_type": "code",
   "source": [
    "# Forgetful Karaoke\n",
    "def approximate_song(filename):\n",
    "    song_dict = dict()\n",
    "    with open(filename, 'r') as file:\n",
    "        lines = file.readlines()\n",
    "        song = ' '.join(lines)\n",
    "        single_word = song.split()\n",
    "        for i in single_word:\n",
    "            if i not in song_dict:\n",
    "                song_dict[i] = 1\n",
    "            else:\n",
    "                song_dict[i] += 1\n",
    "    song_dict = sorted(song_dict.items(), key=lambda x: (-x[1], x[0]))\n",
    "    return song_dict[0][0]\n",
    "print(approximate_song('somebody.txt'))\n",
    "print(approximate_song('barbrastreisand.txt'))\n",
    "print(approximate_song('fakesong.txt'))\n"
   ],
   "id": "1c1eedf40fba5b2f",
   "outputs": [
    {
     "name": "stdout",
     "output_type": "stream",
     "text": [
      "that\n",
      "whooo-oo\n",
      "dum\n"
     ]
    }
   ],
   "execution_count": 12
  }
 ],
 "metadata": {
  "kernelspec": {
   "display_name": "Python 3",
   "language": "python",
   "name": "python3"
  },
  "language_info": {
   "codemirror_mode": {
    "name": "ipython",
    "version": 2
   },
   "file_extension": ".py",
   "mimetype": "text/x-python",
   "name": "python",
   "nbconvert_exporter": "python",
   "pygments_lexer": "ipython2",
   "version": "2.7.6"
  }
 },
 "nbformat": 4,
 "nbformat_minor": 5
}
