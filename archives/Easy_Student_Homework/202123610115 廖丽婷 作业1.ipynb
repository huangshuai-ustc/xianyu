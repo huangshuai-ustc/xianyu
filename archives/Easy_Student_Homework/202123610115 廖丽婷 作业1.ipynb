{
 "cells": [
  {
   "cell_type": "code",
   "execution_count": 1,
   "id": "15a31af6-4783-46a1-809f-f351192be013",
   "metadata": {
    "ExecuteTime": {
     "end_time": "2024-03-15T08:52:29.707182900Z",
     "start_time": "2024-03-15T08:52:29.692028100Z"
    }
   },
   "outputs": [
    {
     "name": "stdout",
     "output_type": "stream",
     "text": [
      "均值：6.00\n",
      "方差：14.00\n",
      "标准差：3.74\n"
     ]
    }
   ],
   "source": [
    "import math\n",
    "def mean(data):\n",
    "    sum1 = 0\n",
    "    for i in data:\n",
    "        sum1 += i\n",
    "    return sum1/len(data)\n",
    "def var(data):\n",
    "    means = mean(data)\n",
    "    vars = 0\n",
    "    for i in data:\n",
    "        vars += (i-means) ** 2\n",
    "    return vars/len(data)\n",
    "def std_var(data):\n",
    "    vars = var(data)\n",
    "    return math.sqrt(vars)\n",
    "data = [11,2,5]\n",
    "mea = mean(data)\n",
    "varience = var(data)\n",
    "std_varience = std_var(data)\n",
    "print(f'均值：{mea:.2f}')\n",
    "print(f'方差：{varience:.2f}')\n",
    "print(f'标准差：{std_varience:.2f}')"
   ]
  },
  {
   "cell_type": "code",
   "execution_count": 2,
   "id": "775198ab-89ee-4306-bbe1-20308b126006",
   "metadata": {
    "ExecuteTime": {
     "end_time": "2024-03-15T08:52:41.550878800Z",
     "start_time": "2024-03-15T08:52:33.867715300Z"
    }
   },
   "outputs": [
    {
     "name": "stdout",
     "output_type": "stream",
     "text": [
      "Mike ，您好！您2025年将 22 岁\n"
     ]
    }
   ],
   "source": [
    "def message(name, age):\n",
    "    print(name,\"，您好！您2025年将\",str(age+1),\"岁\")\n",
    "name = input(\"请输入你的名字：\")\n",
    "age = eval(input(\"请输入你的年龄：\"))\n",
    "message(name,age)"
   ]
  },
  {
   "cell_type": "code",
   "execution_count": 3,
   "id": "09e2faa7-eef0-4788-8baf-9f345f285e16",
   "metadata": {
    "ExecuteTime": {
     "end_time": "2024-03-15T08:52:46.266194Z",
     "start_time": "2024-03-15T08:52:46.244159500Z"
    }
   },
   "outputs": [
    {
     "name": "stdout",
     "output_type": "stream",
     "text": [
      "ASH-FGH\n"
     ]
    }
   ],
   "source": [
    "str1 = \"ASD\"\n",
    "str2 = \"FGH\"\n",
    "str1 = str1[:2] + str2[-1]\n",
    "str2 = str2[:2] + str1[-1]\n",
    "print(str1+'-'+str2)"
   ]
  },
  {
   "cell_type": "code",
   "execution_count": null,
   "id": "c5ada129-884a-4d8e-815a-75592dc3943e",
   "metadata": {},
   "outputs": [],
   "source": []
  }
 ],
 "metadata": {
  "kernelspec": {
   "display_name": "test",
   "language": "python",
   "name": "test"
  },
  "language_info": {
   "codemirror_mode": {
    "name": "ipython",
    "version": 3
   },
   "file_extension": ".py",
   "mimetype": "text/x-python",
   "name": "python",
   "nbconvert_exporter": "python",
   "pygments_lexer": "ipython3",
   "version": "3.9.18"
  }
 },
 "nbformat": 4,
 "nbformat_minor": 5
}
