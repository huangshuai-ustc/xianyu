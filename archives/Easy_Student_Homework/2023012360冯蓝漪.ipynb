{
 "cells": [
  {
   "cell_type": "code",
   "execution_count": null,
   "id": "initial_id",
   "metadata": {
    "collapsed": true
   },
   "outputs": [],
   "source": [
    "x, y, z = map(int, input('输入三个整数：').split(','))\n",
    "if x > y:\n",
    "    if x > z:\n",
    "        if y < z:\n",
    "            x, y, z = x, z, y\n",
    "    else:\n",
    "        x, y, z = z, x, y\n",
    "else:\n",
    "    if y > z:\n",
    "        if x > z:\n",
    "            x, y, z = y, x, z\n",
    "        else:\n",
    "            x, y, z = y, z, x\n",
    "    else:\n",
    "        x, y, z = z, y, x\n",
    "\n",
    "ascending_order = [x, y, z]\n",
    "descending_order = ascending_order[::-1]\n",
    "\n",
    "print('排序后的结果是：'+','.join(map(str, descending_order))+' 或 '+' '.join(map(str, ascending_order)))\n"
   ]
  },
  {
   "metadata": {},
   "cell_type": "code",
   "outputs": [],
   "execution_count": null,
   "source": [
    "profit = eval(input('输入当月利润（单位：万元）：'))\n",
    "bonus = 0\n",
    "if profit <= 10:\n",
    "    bonus = 1.1 * profit\n",
    "else:\n",
    "    if profit > 100:\n",
    "        bonus = 1.1 * 10 + 1.075 * 10 + 1.05 * 20 + 1.03 * 20 + 1.015 * 40 + 1.01 * (profit - 100)\n",
    "    elif 60 < profit <= 100:\n",
    "        bonus = 1.1 * 10 + 1.075 * 10 + 1.05 * 20 + 1.03 * 20 + 1.015 * (profit - 60)\n",
    "    elif 40 < profit <= 60:\n",
    "        bonus = 1.1 * 10 + 1.075 * 10 + 1.05 * 20 + 1.03 * (profit - 40)\n",
    "    elif 20 < profit <= 40:\n",
    "        bonus = 1.1 * 10 + 1.075 * 10 + 1.05 * (profit - 20)\n",
    "    elif 10 < profit <= 20:\n",
    "        bonus = 1.1 * 10 + 1.075 * (profit - 10)\n",
    "print('应发放的奖金是：' + str(bonus - profit) + '万元')\n"
   ],
   "id": "4986cce2e9724397"
  },
  {
   "metadata": {},
   "cell_type": "code",
   "outputs": [],
   "execution_count": null,
   "source": [
    "height = eval(input('身高（单位：cm）：'))\n",
    "weight = eval(input('体重（单位：kg）：'))\n",
    "bmi = weight / (height / 100) ** 2\n",
    "print('BMI指数为：' + str(bmi))\n",
    "if bmi < 18.50:\n",
    "    print('体质结果为：过轻')\n",
    "    print('建议：多吃点！')\n",
    "elif 18.50 <= bmi < 22.99:\n",
    "    print('体质结果为：正常')\n",
    "    print('建议：继续保持！')\n",
    "elif 23.00 <= bmi < 27.99:\n",
    "    print('体质结果为：过重')\n",
    "    print('建议：加强身体锻炼，注意控制饮食！')\n",
    "elif 28.00 <= bmi < 32.00:\n",
    "    print('体质结果为：肥胖')\n",
    "    print('建议：抓紧加强身体锻炼，一定控制饮食！')\n",
    "elif 32.00 <= bmi:\n",
    "    print('体质结果为：非常肥胖')\n",
    "    print('建议：必须天天身体锻炼，必须控制饮食！')\n"
   ],
   "id": "6e87b2064c5008c6"
  }
 ],
 "metadata": {
  "kernelspec": {
   "display_name": "Python 3",
   "language": "python",
   "name": "python3"
  },
  "language_info": {
   "codemirror_mode": {
    "name": "ipython",
    "version": 2
   },
   "file_extension": ".py",
   "mimetype": "text/x-python",
   "name": "python",
   "nbconvert_exporter": "python",
   "pygments_lexer": "ipython2",
   "version": "2.7.6"
  }
 },
 "nbformat": 4,
 "nbformat_minor": 5
}
