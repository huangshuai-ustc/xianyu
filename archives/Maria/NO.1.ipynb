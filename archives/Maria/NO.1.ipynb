{
 "cells": [
  {
   "cell_type": "code",
   "execution_count": 4,
   "metadata": {
    "collapsed": true,
    "ExecuteTime": {
     "end_time": "2023-09-08T06:16:32.528100800Z",
     "start_time": "2023-09-08T06:16:32.507953700Z"
    }
   },
   "outputs": [
    {
     "name": "stdout",
     "output_type": "stream",
     "text": [
      "5\n",
      "12\n",
      "16.0\n"
     ]
    }
   ],
   "source": [
    "def q1(weight, volume):\n",
    "    if weight < 4.0 and volume < 0.3:\n",
    "        output = 5\n",
    "    else:\n",
    "        output = max(20 * volume, 2 * weight)\n",
    "    return output\n",
    "print(q1(2.5, 0.1))\n",
    "print(q1(6, 0.2))\n",
    "print(q1(6, 0.8))"
   ]
  },
  {
   "cell_type": "markdown",
   "source": [
    "1.1 房间里的其他东西例如墙壁桌子黑板不考虑\n",
    "1.2将人物符号化为名称之类\n",
    "\n",
    "2.1 隐藏物品的细节，即不需要关心学生是男孩女孩高矮胖瘦，本题直接抽象为代号，方便程序运行\n",
    "..."
   ],
   "metadata": {
    "collapsed": false
   }
  },
  {
   "cell_type": "markdown",
   "source": [
    "CorrectPassword = \"ComputerScience12\"\n",
    "check = False\n",
    "do\n",
    "    enteredPassword=input(\"Enter Password\")\n",
    "    if enteredPassword == correctPassword then\n",
    "    check = true\n",
    "    endif\n",
    "until check == true"
   ],
   "metadata": {
    "collapsed": false
   }
  },
  {
   "cell_type": "code",
   "execution_count": 12,
   "outputs": [
    {
     "name": "stdout",
     "output_type": "stream",
     "text": [
      "{'A': 1, 'B': 1, 'C': 1, 'D': 1}\n"
     ]
    }
   ],
   "source": [
    "temp = [12,22,33,4,53]\n",
    "count = {'A':0, 'B':0, 'C':0, 'D':0}\n",
    "for i in temp:\n",
    "    assert type(i) is int\n",
    "    if i<=10:\n",
    "        count['A'] +=1\n",
    "        # count['A'] = count['A'] + 1\n",
    "    elif 10 < i <= 20:\n",
    "        count['B'] +=1\n",
    "    elif 20 < i <= 30:\n",
    "        count['C'] +=1\n",
    "    elif 30 < i <= 40:\n",
    "        count['D'] +=1\n",
    "print(count)"
   ],
   "metadata": {
    "collapsed": false,
    "ExecuteTime": {
     "end_time": "2023-09-08T12:21:47.406112300Z",
     "start_time": "2023-09-08T12:21:47.384923Z"
    }
   }
  },
  {
   "cell_type": "code",
   "execution_count": 10,
   "outputs": [
    {
     "name": "stdout",
     "output_type": "stream",
     "text": [
      "小张\n",
      "篮球,羽毛球\n",
      "小王\n",
      "篮球,乒乓球\n"
     ]
    }
   ],
   "source": [
    "stu = ['小张 篮球,羽毛球','小王 篮球,乒乓球']\n",
    "lan, yumao = 0,0\n",
    "for i in stu:\n",
    "    name = i.split(' ')[0]\n",
    "    fav = i.split(' ')[1]\n",
    "    print(name)\n",
    "    print(fav)\n",
    "#     if '篮球' in i:\n",
    "#         lan +=1\n",
    "#     if '羽毛球' in i:\n",
    "#         yumao +=1\n",
    "# print(lan, yumao)"
   ],
   "metadata": {
    "collapsed": false,
    "ExecuteTime": {
     "end_time": "2023-09-10T10:12:54.799111900Z",
     "start_time": "2023-09-10T10:12:54.788444500Z"
    }
   }
  },
  {
   "cell_type": "code",
   "execution_count": 17,
   "outputs": [
    {
     "name": "stdout",
     "output_type": "stream",
     "text": [
      "[{'sno': 104, 'sname': '小D', 'sgrade': 66}, {'sno': 102, 'sname': '小B', 'sgrade': 77}, {'sno': 101, 'sname': '小A', 'sgrade': 88}, {'sno': 103, 'sname': '小C', 'sgrade': 99}]\n"
     ]
    }
   ],
   "source": [
    "grade = [{'sno':101,'sname':'小A','sgrade':88},\n",
    "         {'sno':102,'sname':'小B','sgrade':77},\n",
    "         {'sno':103,'sname':'小C','sgrade':99},\n",
    "         {'sno':104,'sname':'小D','sgrade':66}]\n",
    "\n",
    "# print(grade[1]['sgrade'])\n",
    "sorted_grade = sorted(grade,key=lambda x:x['sgrade'],reverse=False)\n",
    "#\n",
    "# n = len(grade)\n",
    "# for i in range(n - 1):\n",
    "#     for j in range(0, n - i - 1):\n",
    "#         if grade[j]['sgrade'] < grade[j + 1]['sgrade']:\n",
    "#             grade[j], grade[j + 1] = grade[j + 1], grade[j]\n",
    "#\n",
    "print(sorted_grade)\n",
    "# print(grade)"
   ],
   "metadata": {
    "collapsed": false,
    "ExecuteTime": {
     "end_time": "2023-09-10T10:55:31.462233600Z",
     "start_time": "2023-09-10T10:55:31.428487500Z"
    }
   }
  },
  {
   "cell_type": "code",
   "execution_count": 22,
   "outputs": [
    {
     "name": "stdout",
     "output_type": "stream",
     "text": [
      "[1, 5, 7, 12]\n",
      "[3, 4, 15, 16]\n",
      "[0, 0, 1, 3]\n",
      "[12, 16, 18, 23]\n",
      "4.0\n",
      "6.25\n",
      "10.25\n",
      "13.5\n"
     ]
    }
   ],
   "source": [
    "data = [[1,5,7,12],\n",
    "        [3,4,15,16],\n",
    "        [0,0,1,3],\n",
    "        [12,16,18,23]]\n",
    "# data[0][0]+data[1][0]+data[2][0]+data[3][0]\n",
    "n=len(data)\n",
    "m=len(data[0])\n",
    "# print(n,m)\n",
    "for i in data:\n",
    "    print(i)\n",
    "for i in range(n):\n",
    "    # i = 0\n",
    "    sums = 0\n",
    "    for j in range(m):\n",
    "        sums += data[j][i]\n",
    "    print(sums/4)"
   ],
   "metadata": {
    "collapsed": false,
    "ExecuteTime": {
     "end_time": "2023-09-10T11:15:12.696696400Z",
     "start_time": "2023-09-10T11:15:12.664627800Z"
    }
   }
  },
  {
   "cell_type": "code",
   "execution_count": 25,
   "outputs": [
    {
     "name": "stdout",
     "output_type": "stream",
     "text": [
      "23 12 17.25\n",
      "17.25\n"
     ]
    }
   ],
   "source": [
    "grade = [12,16,18,23]\n",
    "max, min, s = -1000, 9999, 0\n",
    "for i in grade:\n",
    "    if i>max:\n",
    "        max = i\n",
    "    if i<min:\n",
    "        min = i\n",
    "    s +=i\n",
    "print(max,min,s/4)\n",
    "print(sum(grade)/4)"
   ],
   "metadata": {
    "collapsed": false,
    "ExecuteTime": {
     "end_time": "2023-09-10T11:20:33.039664100Z",
     "start_time": "2023-09-10T11:20:33.021956500Z"
    }
   }
  },
  {
   "cell_type": "code",
   "execution_count": null,
   "outputs": [],
   "source": [],
   "metadata": {
    "collapsed": false
   }
  }
 ],
 "metadata": {
  "kernelspec": {
   "display_name": "Python 3",
   "language": "python",
   "name": "python3"
  },
  "language_info": {
   "codemirror_mode": {
    "name": "ipython",
    "version": 2
   },
   "file_extension": ".py",
   "mimetype": "text/x-python",
   "name": "python",
   "nbconvert_exporter": "python",
   "pygments_lexer": "ipython2",
   "version": "2.7.6"
  }
 },
 "nbformat": 4,
 "nbformat_minor": 0
}
