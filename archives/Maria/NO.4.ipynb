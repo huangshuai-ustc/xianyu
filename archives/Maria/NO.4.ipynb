{
 "cells": [
  {
   "cell_type": "markdown",
   "source": [
    "# python程序"
   ],
   "metadata": {
    "collapsed": false
   },
   "id": "65349c6697d8a61c"
  },
  {
   "cell_type": "markdown",
   "source": [
    "## NO.1"
   ],
   "metadata": {
    "collapsed": false
   },
   "id": "e612f05b535ff6df"
  },
  {
   "cell_type": "code",
   "execution_count": 1,
   "outputs": [
    {
     "name": "stdout",
     "output_type": "stream",
     "text": [
      "8\n"
     ]
    }
   ],
   "source": [
    "# 获取三个整数输入\n",
    "num1 = int(input(\"请输入第一个整数：\"))\n",
    "num2 = int(input(\"请输入第二个整数：\"))\n",
    "num3 = int(input(\"请输入第三个整数：\"))\n",
    "\n",
    "# 创建一个包含这些整数的列表\n",
    "numbers = [num1, num2, num3]\n",
    "\n",
    "# 对列表进行排序\n",
    "numbers.sort()\n",
    "\n",
    "# 输出排序后的结果\n",
    "print(\"从小到大排序后的结果为:\", numbers)"
   ],
   "metadata": {
    "collapsed": false,
    "ExecuteTime": {
     "end_time": "2023-12-04T10:28:27.632161200Z",
     "start_time": "2023-12-04T10:28:27.609080800Z"
    }
   },
   "id": "dc2810f33472dd8d"
  },
  {
   "cell_type": "markdown",
   "source": [
    "## NO.4"
   ],
   "metadata": {
    "collapsed": false
   },
   "id": "94ffdd7b33bf18a5"
  },
  {
   "cell_type": "code",
   "execution_count": 2,
   "outputs": [
    {
     "name": "stdout",
     "output_type": "stream",
     "text": [
      "1-10 之间的所有偶数和为: 30\n",
      "1-15 之间的所有偶数和为: 56\n"
     ]
    }
   ],
   "source": [
    "def sum_even_numbers(n=10):\n",
    "    result = 0\n",
    "    for i in range(1, n + 1):\n",
    "        if i % 2 == 0:\n",
    "            result += i\n",
    "    return result\n",
    "\n",
    "# 默认计算 1-10 之间的偶数和\n",
    "result_default = sum_even_numbers()\n",
    "print(\"1-10 之间的所有偶数和为:\", result_default)\n",
    "\n",
    "# 或者你可以指定不同的 n 值\n",
    "n_value = 15\n",
    "result_custom = sum_even_numbers(n_value)\n",
    "print(f\"1-{n_value} 之间的所有偶数和为:\", result_custom)\n"
   ],
   "metadata": {
    "collapsed": false,
    "ExecuteTime": {
     "end_time": "2023-12-03T03:18:11.727177400Z",
     "start_time": "2023-12-03T03:18:11.659145600Z"
    }
   },
   "id": "ad4e57507cd19464"
  },
  {
   "cell_type": "markdown",
   "source": [
    "# NO.9"
   ],
   "metadata": {
    "collapsed": false
   },
   "id": "48d50c163464301b"
  },
  {
   "cell_type": "code",
   "execution_count": 3,
   "outputs": [
    {
     "name": "stdout",
     "output_type": "stream",
     "text": [
      "FG\n"
     ]
    }
   ],
   "source": [
    "my_str = \"ABEFG\"\n",
    "substring = my_str[3:]  # 从索引3开始（包括索引3），取到字符串末尾\n",
    "print(substring)  # 输出结果为 \"FG\"\n"
   ],
   "metadata": {
    "collapsed": false,
    "ExecuteTime": {
     "end_time": "2023-12-03T03:19:58.415593200Z",
     "start_time": "2023-12-03T03:19:58.393249200Z"
    }
   },
   "id": "8081f5a8392dcef7"
  },
  {
   "cell_type": "markdown",
   "source": [
    "# NO.10"
   ],
   "metadata": {
    "collapsed": false
   },
   "id": "4c9f24de0f8ef459"
  },
  {
   "cell_type": "code",
   "execution_count": 2,
   "outputs": [
    {
     "name": "stdout",
     "output_type": "stream",
     "text": [
      "您输入的用户名是 abc，密码是 123\n"
     ]
    }
   ],
   "source": [
    "# 获取用户名和密码输入\n",
    "user_input = input(\"请输入用户名和密码（格式：用户名/密码）：\")\n",
    "\n",
    "# 通过 '/' 分割用户名和密码\n",
    "split_input = user_input.split(',')\n",
    "\n",
    "# 检查是否输入了正确的格式（用户名/密码）\n",
    "if len(split_input) == 2:\n",
    "    username = split_input[0]\n",
    "    password = split_input[1]\n",
    "    print(f\"您输入的用户名是 {username}，密码是 {password}\")\n",
    "else:\n",
    "    print(\"输入格式错误，请输入正确的用户名和密码格式（用户名/密码）\")\n"
   ],
   "metadata": {
    "collapsed": false,
    "ExecuteTime": {
     "end_time": "2023-12-03T12:34:43.360433700Z",
     "start_time": "2023-12-03T12:34:37.614848500Z"
    }
   },
   "id": "9132f62dfee02b5a"
  },
  {
   "cell_type": "markdown",
   "source": [
    "# NO.17"
   ],
   "metadata": {
    "collapsed": false
   },
   "id": "1c880f820e1fc1d9"
  },
  {
   "cell_type": "code",
   "execution_count": 5,
   "outputs": [
    {
     "name": "stdout",
     "output_type": "stream",
     "text": [
      "1 * 1 = 1\t\n",
      "1 * 2 = 2\t2 * 2 = 4\t\n",
      "1 * 3 = 3\t2 * 3 = 6\t3 * 3 = 9\t\n",
      "1 * 4 = 4\t2 * 4 = 8\t3 * 4 = 12\t4 * 4 = 16\t\n",
      "1 * 5 = 5\t2 * 5 = 10\t3 * 5 = 15\t4 * 5 = 20\t5 * 5 = 25\t\n",
      "1 * 6 = 6\t2 * 6 = 12\t3 * 6 = 18\t4 * 6 = 24\t5 * 6 = 30\t6 * 6 = 36\t\n",
      "1 * 7 = 7\t2 * 7 = 14\t3 * 7 = 21\t4 * 7 = 28\t5 * 7 = 35\t6 * 7 = 42\t7 * 7 = 49\t\n",
      "1 * 8 = 8\t2 * 8 = 16\t3 * 8 = 24\t4 * 8 = 32\t5 * 8 = 40\t6 * 8 = 48\t7 * 8 = 56\t8 * 8 = 64\t\n",
      "1 * 9 = 9\t2 * 9 = 18\t3 * 9 = 27\t4 * 9 = 36\t5 * 9 = 45\t6 * 9 = 54\t7 * 9 = 63\t8 * 9 = 72\t9 * 9 = 81\t\n"
     ]
    }
   ],
   "source": [
    "i = 1\n",
    "while i <= 9:\n",
    "    j = 1\n",
    "    while j <= i:\n",
    "        result = i * j\n",
    "        print(f\"{j} * {i} = {result}\", end=\"\\t\")\n",
    "        j += 1\n",
    "    print()  # 换行\n",
    "    i += 1\n"
   ],
   "metadata": {
    "collapsed": false,
    "ExecuteTime": {
     "end_time": "2023-12-03T03:21:30.991803400Z",
     "start_time": "2023-12-03T03:21:30.938101400Z"
    }
   },
   "id": "846ca30841a67b59"
  },
  {
   "cell_type": "markdown",
   "source": [
    "# NO.18"
   ],
   "metadata": {
    "collapsed": false
   },
   "id": "182e82a1705eb420"
  },
  {
   "cell_type": "code",
   "execution_count": 6,
   "outputs": [
    {
     "data": {
      "text/plain": "[1,\n 3,\n 5,\n 7,\n 9,\n 11,\n 13,\n 15,\n 17,\n 19,\n 21,\n 23,\n 25,\n 27,\n 29,\n 31,\n 33,\n 35,\n 37,\n 39,\n 41,\n 43,\n 45,\n 47,\n 49,\n 51,\n 53,\n 55,\n 57,\n 59,\n 61,\n 63,\n 65,\n 67,\n 69,\n 71,\n 73,\n 75,\n 77,\n 79,\n 81,\n 83,\n 85,\n 87,\n 89,\n 91,\n 93,\n 95,\n 97,\n 99,\n 101,\n 103,\n 105,\n 107,\n 109,\n 111,\n 113,\n 115,\n 117,\n 119,\n 121,\n 123,\n 125,\n 127,\n 129,\n 131,\n 133,\n 135,\n 137,\n 139,\n 141,\n 143,\n 145,\n 147,\n 149,\n 151,\n 153,\n 155,\n 157,\n 159,\n 161,\n 163,\n 165,\n 167,\n 169,\n 171,\n 173,\n 175,\n 177,\n 179,\n 181,\n 183,\n 185,\n 187,\n 189,\n 191,\n 193,\n 195,\n 197,\n 199,\n 201,\n 203,\n 205,\n 207,\n 209,\n 211,\n 213,\n 215,\n 217,\n 219,\n 221,\n 223,\n 225,\n 227,\n 229,\n 231,\n 233,\n 235,\n 237,\n 239,\n 241,\n 243,\n 245,\n 247,\n 249,\n 251,\n 253,\n 255,\n 257,\n 259,\n 261,\n 263,\n 265,\n 267,\n 269,\n 271,\n 273,\n 275,\n 277,\n 279,\n 281,\n 283,\n 285,\n 287,\n 289,\n 291,\n 293,\n 295,\n 297,\n 299,\n 301,\n 303,\n 305,\n 307,\n 309,\n 311,\n 313,\n 315,\n 317,\n 319,\n 321,\n 323,\n 325,\n 327,\n 329,\n 331,\n 333,\n 335,\n 337,\n 339,\n 341,\n 343,\n 345,\n 347,\n 349,\n 351,\n 353,\n 355,\n 357,\n 359,\n 361,\n 363,\n 365,\n 367,\n 369,\n 371,\n 373,\n 375,\n 377,\n 379,\n 381,\n 383,\n 385,\n 387,\n 389,\n 391,\n 393,\n 395,\n 397,\n 399,\n 401,\n 403,\n 405,\n 407,\n 409,\n 411,\n 413,\n 415,\n 417,\n 419,\n 421,\n 423,\n 425,\n 427,\n 429,\n 431,\n 433,\n 435,\n 437,\n 439,\n 441,\n 443,\n 445,\n 447,\n 449,\n 451,\n 453,\n 455,\n 457,\n 459,\n 461,\n 463,\n 465,\n 467,\n 469,\n 471,\n 473,\n 475,\n 477,\n 479,\n 481,\n 483,\n 485,\n 487,\n 489,\n 491,\n 493,\n 495,\n 497,\n 499,\n 501,\n 503,\n 505,\n 507,\n 509,\n 511,\n 513,\n 515,\n 517,\n 519,\n 521,\n 523,\n 525,\n 527,\n 529,\n 531,\n 533,\n 535,\n 537,\n 539,\n 541,\n 543,\n 545,\n 547,\n 549,\n 551,\n 553,\n 555,\n 557,\n 559,\n 561,\n 563,\n 565,\n 567,\n 569,\n 571,\n 573,\n 575,\n 577,\n 579,\n 581,\n 583,\n 585,\n 587,\n 589,\n 591,\n 593,\n 595,\n 597,\n 599,\n 601,\n 603,\n 605,\n 607,\n 609,\n 611,\n 613,\n 615,\n 617,\n 619,\n 621,\n 623,\n 625,\n 627,\n 629,\n 631,\n 633,\n 635,\n 637,\n 639,\n 641,\n 643,\n 645,\n 647,\n 649,\n 651,\n 653,\n 655,\n 657,\n 659,\n 661,\n 663,\n 665,\n 667,\n 669,\n 671,\n 673,\n 675,\n 677,\n 679,\n 681,\n 683,\n 685,\n 687,\n 689,\n 691,\n 693,\n 695,\n 697,\n 699,\n 701,\n 703,\n 705,\n 707,\n 709,\n 711,\n 713,\n 715,\n 717,\n 719,\n 721,\n 723,\n 725,\n 727,\n 729,\n 731,\n 733,\n 735,\n 737,\n 739,\n 741,\n 743,\n 745,\n 747,\n 749,\n 751,\n 753,\n 755,\n 757,\n 759,\n 761,\n 763,\n 765,\n 767,\n 769,\n 771,\n 773,\n 775,\n 777,\n 779,\n 781,\n 783,\n 785,\n 787,\n 789,\n 791,\n 793,\n 795,\n 797,\n 799,\n 801,\n 803,\n 805,\n 807,\n 809,\n 811,\n 813,\n 815,\n 817,\n 819,\n 821,\n 823,\n 825,\n 827,\n 829,\n 831,\n 833,\n 835,\n 837,\n 839,\n 841,\n 843,\n 845,\n 847,\n 849,\n 851,\n 853,\n 855,\n 857,\n 859,\n 861,\n 863,\n 865,\n 867,\n 869,\n 871,\n 873,\n 875,\n 877,\n 879,\n 881,\n 883,\n 885,\n 887,\n 889,\n 891,\n 893,\n 895,\n 897,\n 899,\n 901,\n 903,\n 905,\n 907,\n 909,\n 911,\n 913,\n 915,\n 917,\n 919,\n 921,\n 923,\n 925,\n 927,\n 929,\n 931,\n 933,\n 935,\n 937,\n 939,\n 941,\n 943,\n 945,\n 947,\n 949,\n 951,\n 953,\n 955,\n 957,\n 959,\n 961,\n 963,\n 965,\n 967,\n 969,\n 971,\n 973,\n 975,\n 977,\n 979,\n 981,\n 983,\n 985,\n 987,\n 989,\n 991,\n 993,\n 995,\n 997,\n 999]"
     },
     "execution_count": 6,
     "metadata": {},
     "output_type": "execute_result"
    }
   ],
   "source": [
    "odd_numbers = [num for num in range(1, 1001) if num % 2 != 0]\n",
    "odd_numbers"
   ],
   "metadata": {
    "collapsed": false,
    "ExecuteTime": {
     "end_time": "2023-12-03T03:22:17.512134200Z",
     "start_time": "2023-12-03T03:22:17.487607400Z"
    }
   },
   "id": "62ffa859c4bc5fdb"
  },
  {
   "cell_type": "markdown",
   "source": [
    "# NO.19"
   ],
   "metadata": {
    "collapsed": false
   },
   "id": "796289be221ee6cc"
  },
  {
   "cell_type": "code",
   "execution_count": 7,
   "outputs": [
    {
     "name": "stdout",
     "output_type": "stream",
     "text": [
      "[2, 5, 7, 9]\n"
     ]
    }
   ],
   "source": [
    "nums = [2, 5, 7]\n",
    "nums.append(9)\n",
    "print(nums)  # 输出结果为 [2, 5, 7, 9]\n"
   ],
   "metadata": {
    "collapsed": false,
    "ExecuteTime": {
     "end_time": "2023-12-03T03:23:32.287160100Z",
     "start_time": "2023-12-03T03:23:32.270770200Z"
    }
   },
   "id": "54a1de3428a0dc5c"
  },
  {
   "cell_type": "code",
   "execution_count": 3,
   "outputs": [
    {
     "name": "stdout",
     "output_type": "stream",
     "text": [
      "[2, 0, 5, 7]\n"
     ]
    }
   ],
   "source": [
    "nums = [2, 5, 7]\n",
    "nums.insert(nums.index(5), 0)\n",
    "print(nums)  # 输出结果为 [0, 2, 5, 7]\n"
   ],
   "metadata": {
    "collapsed": false,
    "ExecuteTime": {
     "end_time": "2023-12-03T12:36:39.032135200Z",
     "start_time": "2023-12-03T12:36:39.019469Z"
    }
   },
   "id": "c6d4d9ccd26345e2"
  },
  {
   "cell_type": "markdown",
   "source": [
    "# NO.22"
   ],
   "metadata": {
    "collapsed": false
   },
   "id": "9ee28da4a9ff44e3"
  },
  {
   "cell_type": "code",
   "execution_count": 9,
   "outputs": [
    {
     "name": "stdout",
     "output_type": "stream",
     "text": [
      "{'id': 1, 'salary': 2000, 'phone': '1234567890'}\n"
     ]
    }
   ],
   "source": [
    "employee = {\"id\": 1, \"salary\": 2000}\n",
    "\n",
    "# 插入员工的手机号\n",
    "employee[\"phone\"] = \"1234567890\"\n",
    "\n",
    "print(employee)  # 输出包含手机号的员工信息\n"
   ],
   "metadata": {
    "collapsed": false,
    "ExecuteTime": {
     "end_time": "2023-12-03T03:25:00.593190900Z",
     "start_time": "2023-12-03T03:25:00.573980300Z"
    }
   },
   "id": "3dd7b302c37617b6"
  },
  {
   "cell_type": "markdown",
   "source": [
    "# NO.27"
   ],
   "metadata": {
    "collapsed": false
   },
   "id": "20a01a1bef745061"
  },
  {
   "cell_type": "code",
   "execution_count": 10,
   "outputs": [
    {
     "name": "stdout",
     "output_type": "stream",
     "text": [
      "1 * 1 = 1\t\n",
      "1 * 2 = 2\t2 * 2 = 4\t\n",
      "1 * 3 = 3\t2 * 3 = 6\t3 * 3 = 9\t\n",
      "1 * 4 = 4\t2 * 4 = 8\t3 * 4 = 12\t4 * 4 = 16\t\n",
      "1 * 5 = 5\t2 * 5 = 10\t3 * 5 = 15\t4 * 5 = 20\t5 * 5 = 25\t\n",
      "1 * 6 = 6\t2 * 6 = 12\t3 * 6 = 18\t4 * 6 = 24\t5 * 6 = 30\t6 * 6 = 36\t\n",
      "1 * 7 = 7\t2 * 7 = 14\t3 * 7 = 21\t4 * 7 = 28\t5 * 7 = 35\t6 * 7 = 42\t7 * 7 = 49\t\n",
      "1 * 8 = 8\t2 * 8 = 16\t3 * 8 = 24\t4 * 8 = 32\t5 * 8 = 40\t6 * 8 = 48\t7 * 8 = 56\t8 * 8 = 64\t\n",
      "1 * 9 = 9\t2 * 9 = 18\t3 * 9 = 27\t4 * 9 = 36\t5 * 9 = 45\t6 * 9 = 54\t7 * 9 = 63\t8 * 9 = 72\t9 * 9 = 81\t\n"
     ]
    }
   ],
   "source": [
    "for i in range(1, 10):\n",
    "    for j in range(1, i + 1):\n",
    "        result = i * j\n",
    "        print(f\"{j} * {i} = {result}\", end=\"\\t\")\n",
    "    print()  # 换行\n"
   ],
   "metadata": {
    "collapsed": false,
    "ExecuteTime": {
     "end_time": "2023-12-03T03:25:32.603605600Z",
     "start_time": "2023-12-03T03:25:32.582313800Z"
    }
   },
   "id": "26c31c14d926c3b1"
  },
  {
   "cell_type": "markdown",
   "source": [
    "# NO.33"
   ],
   "metadata": {
    "collapsed": false
   },
   "id": "5080d51c05dc8252"
  },
  {
   "cell_type": "code",
   "execution_count": 11,
   "outputs": [
    {
     "name": "stdout",
     "output_type": "stream",
     "text": [
      "[0, 1, 1, 2, 3, 5, 8, 13, 21, 34, 55, 89, 144, 233, 377, 610, 987, 1597, 2584, 4181, 6765, 10946, 17711, 28657]\n"
     ]
    }
   ],
   "source": [
    "fibonacci_list = [0, 1]  # 前两个数是 0 和 1\n",
    "\n",
    "while len(fibonacci_list) < 24:\n",
    "    next_number = fibonacci_list[-1] + fibonacci_list[-2]\n",
    "    fibonacci_list.append(next_number)\n",
    "\n",
    "print(fibonacci_list)\n"
   ],
   "metadata": {
    "collapsed": false,
    "ExecuteTime": {
     "end_time": "2023-12-03T03:26:11.978623200Z",
     "start_time": "2023-12-03T03:26:11.915724300Z"
    }
   },
   "id": "b2bb885812dfc733"
  },
  {
   "cell_type": "markdown",
   "source": [
    "# NO.34"
   ],
   "metadata": {
    "collapsed": false
   },
   "id": "358573b637ae75ec"
  },
  {
   "cell_type": "code",
   "execution_count": 5,
   "outputs": [
    {
     "name": "stdout",
     "output_type": "stream",
     "text": [
      "{'a': 1, 'b': 2}\n",
      "<class 'dict'>\n",
      "<class 'list'>\n"
     ]
    }
   ],
   "source": [
    "a = '{\"a\": 1, \"b\": 2}'\n",
    "b = '[\"a\", \"b\"]'\n",
    "dict_a = eval(a)\n",
    "print(dict_a)\n",
    "print(type(dict_a))\n",
    "print(type(eval(b)))"
   ],
   "metadata": {
    "collapsed": false,
    "ExecuteTime": {
     "end_time": "2023-12-03T12:38:41.776866500Z",
     "start_time": "2023-12-03T12:38:41.759610800Z"
    }
   },
   "id": "15942492f10af8d2"
  },
  {
   "cell_type": "markdown",
   "source": [
    "# NO.43"
   ],
   "metadata": {
    "collapsed": false
   },
   "id": "29cd97d1e323e54a"
  },
  {
   "cell_type": "code",
   "execution_count": 14,
   "outputs": [
    {
     "name": "stdout",
     "output_type": "stream",
     "text": [
      "Tashi\n"
     ]
    }
   ],
   "source": [
    "a = \"tashi\"\n",
    "modified_a = \"T\" + a[1:]  # 将第一个字符替换为大写的 \"T\"\n",
    "print(modified_a)\n"
   ],
   "metadata": {
    "collapsed": false,
    "ExecuteTime": {
     "end_time": "2023-12-03T03:27:49.351252400Z",
     "start_time": "2023-12-03T03:27:49.328397400Z"
    }
   },
   "id": "47acd56dcf56b3b4"
  },
  {
   "cell_type": "markdown",
   "source": [
    "# NO.44"
   ],
   "metadata": {
    "collapsed": false
   },
   "id": "1703ef59039194b3"
  },
  {
   "cell_type": "code",
   "execution_count": 15,
   "outputs": [
    {
     "name": "stdout",
     "output_type": "stream",
     "text": [
      "122\n"
     ]
    }
   ],
   "source": [
    "num1 = int(\"123\")\n",
    "num2 = int(\"1\")\n",
    "result = num1 - num2\n",
    "print(result)\n"
   ],
   "metadata": {
    "collapsed": false,
    "ExecuteTime": {
     "end_time": "2023-12-03T04:00:53.335134500Z",
     "start_time": "2023-12-03T04:00:53.282228500Z"
    }
   },
   "id": "aac768d714a609d"
  },
  {
   "cell_type": "markdown",
   "source": [
    "# NO.45"
   ],
   "metadata": {
    "collapsed": false
   },
   "id": "4480afa79db6a157"
  },
  {
   "cell_type": "code",
   "execution_count": 16,
   "outputs": [
    {
     "data": {
      "text/plain": "2"
     },
     "execution_count": 16,
     "metadata": {},
     "output_type": "execute_result"
    }
   ],
   "source": [
    "num = True - (False - True)\n",
    "num"
   ],
   "metadata": {
    "collapsed": false,
    "ExecuteTime": {
     "end_time": "2023-12-03T04:01:30.313314100Z",
     "start_time": "2023-12-03T04:01:30.277025100Z"
    }
   },
   "id": "b03dd8e9515b8ca8"
  },
  {
   "cell_type": "markdown",
   "source": [
    "# NO.46"
   ],
   "metadata": {
    "collapsed": false
   },
   "id": "da9562e57a628ec7"
  },
  {
   "cell_type": "code",
   "execution_count": 18,
   "outputs": [
    {
     "name": "stdout",
     "output_type": "stream",
     "text": [
      "1\n"
     ]
    }
   ],
   "source": [
    "hi = \"hi001\"\n",
    "digit = hi[4]  # 获取索引为4的字符，即字符串中的第五个字符\n",
    "print(digit)  # 输出结果为 \"1\"\n"
   ],
   "metadata": {
    "collapsed": false,
    "ExecuteTime": {
     "end_time": "2023-12-03T04:02:15.847571300Z",
     "start_time": "2023-12-03T04:02:15.838382500Z"
    }
   },
   "id": "52e277dc267a9ed0"
  },
  {
   "cell_type": "code",
   "execution_count": 17,
   "outputs": [
    {
     "name": "stdout",
     "output_type": "stream",
     "text": [
      "001\n"
     ]
    }
   ],
   "source": [
    "hi = \"hi001\"\n",
    "substring = hi[2:]  # 从索引为2开始（包括索引2），取到字符串末尾\n",
    "print(substring)  # 输出结果为 \"001\"\n"
   ],
   "metadata": {
    "collapsed": false,
    "ExecuteTime": {
     "end_time": "2023-12-03T04:02:14.436017300Z",
     "start_time": "2023-12-03T04:02:14.410514300Z"
    }
   },
   "id": "7d7a26b8cdcb18ea"
  },
  {
   "cell_type": "markdown",
   "source": [
    "# NO.50"
   ],
   "metadata": {
    "collapsed": false
   },
   "id": "7ce3637a19f44649"
  },
  {
   "cell_type": "code",
   "execution_count": 9,
   "outputs": [
    {
     "data": {
      "text/plain": "[1, 2]"
     },
     "execution_count": 9,
     "metadata": {},
     "output_type": "execute_result"
    }
   ],
   "source": [
    "# my_list = [1, 2, 3, 4, 5]\n",
    "# my_list.reverse()\n",
    "# print(my_list)\n",
    "\n",
    "# a = [1,2,2]\n",
    "# b = []\n",
    "# for i in a:\n",
    "#     if i not in b:\n",
    "#         b.append(i)\n",
    "# b\n",
    "\n",
    "a = [1,2,2]\n",
    "b = set(a)\n",
    "list(b)"
   ],
   "metadata": {
    "collapsed": false,
    "ExecuteTime": {
     "end_time": "2023-12-03T12:49:18.302446800Z",
     "start_time": "2023-12-03T12:49:18.261557900Z"
    }
   },
   "id": "c880306d90241dce"
  },
  {
   "cell_type": "code",
   "execution_count": 20,
   "outputs": [
    {
     "name": "stdout",
     "output_type": "stream",
     "text": [
      "[5, 4, 3, 2, 1]\n"
     ]
    }
   ],
   "source": [
    "my_list = [1, 2, 3, 4, 5]\n",
    "reversed_list = my_list[::-1]\n",
    "print(reversed_list)\n"
   ],
   "metadata": {
    "collapsed": false,
    "ExecuteTime": {
     "end_time": "2023-12-03T04:03:08.246284300Z",
     "start_time": "2023-12-03T04:03:08.194762300Z"
    }
   },
   "id": "946894ce3b6e21af"
  },
  {
   "cell_type": "markdown",
   "source": [
    "# NO.52"
   ],
   "metadata": {
    "collapsed": false
   },
   "id": "5de9a3602062b017"
  },
  {
   "cell_type": "code",
   "execution_count": 21,
   "outputs": [
    {
     "name": "stdout",
     "output_type": "stream",
     "text": [
      "2\n"
     ]
    }
   ],
   "source": [
    "a = [[\"A\", 1], [\"B\", 2]]\n",
    "element = a[1][1]\n",
    "print(element)\n"
   ],
   "metadata": {
    "collapsed": false,
    "ExecuteTime": {
     "end_time": "2023-12-03T04:03:49.540950800Z",
     "start_time": "2023-12-03T04:03:49.504299Z"
    }
   },
   "id": "1ee16aa28d73ebfa"
  },
  {
   "cell_type": "markdown",
   "source": [
    "# NO.54"
   ],
   "metadata": {
    "collapsed": false
   },
   "id": "99d9ef6f159c102a"
  },
  {
   "cell_type": "code",
   "execution_count": 22,
   "outputs": [
    {
     "name": "stdout",
     "output_type": "stream",
     "text": [
      "[2, 4, 6, 8, 10]\n"
     ]
    }
   ],
   "source": [
    "even_numbers = [num for num in range(1, 11) if num % 2 == 0]\n",
    "print(even_numbers)\n"
   ],
   "metadata": {
    "collapsed": false,
    "ExecuteTime": {
     "end_time": "2023-12-03T04:04:20.405766Z",
     "start_time": "2023-12-03T04:04:20.367838800Z"
    }
   },
   "id": "8eba3eb0f19f5b86"
  },
  {
   "cell_type": "markdown",
   "source": [
    "# NO.67"
   ],
   "metadata": {
    "collapsed": false
   },
   "id": "d6a911d9a19d6b51"
  },
  {
   "cell_type": "code",
   "execution_count": 24,
   "outputs": [
    {
     "name": "stdout",
     "output_type": "stream",
     "text": [
      "您的用电量为：1000.0 度\n",
      "您的电费为：1450.0 元\n"
     ]
    }
   ],
   "source": [
    "def calculate_electricity_bill(usage):\n",
    "    if usage <= 100:\n",
    "        cost = usage * 1  # 1 元/度\n",
    "    else:\n",
    "        extra_usage = usage - 100\n",
    "        cost = 100 * 1 + extra_usage * 1.5  # 100 度以内 1 元/度，超过部分 1.5 元/度\n",
    "    return cost\n",
    "\n",
    "# 获取用户输入的用电量\n",
    "electricity_usage = float(input(\"请输入用电量（度）：\"))\n",
    "\n",
    "# 计算电费\n",
    "bill = calculate_electricity_bill(electricity_usage)\n",
    "print(f\"您的用电量为：{electricity_usage} 度\")\n",
    "print(f\"您的电费为：{bill} 元\")\n"
   ],
   "metadata": {
    "collapsed": false,
    "ExecuteTime": {
     "end_time": "2023-12-03T04:05:55.707247800Z",
     "start_time": "2023-12-03T04:05:53.045451900Z"
    }
   },
   "id": "3c16210c39d87de4"
  },
  {
   "cell_type": "markdown",
   "source": [
    "# NO.69"
   ],
   "metadata": {
    "collapsed": false
   },
   "id": "4103128a5ea35362"
  },
  {
   "cell_type": "code",
   "execution_count": 25,
   "outputs": [
    {
     "name": "stdout",
     "output_type": "stream",
     "text": [
      "1+2-3+4-5... ...100 的值为: 50\n"
     ]
    }
   ],
   "source": [
    "total = 0\n",
    "for i in range(1, 101):\n",
    "    if i % 2 == 0:  # 对偶数项进行累加\n",
    "        total += i\n",
    "    else:  # 对奇数项进行累减\n",
    "        total -= i\n",
    "\n",
    "print(\"1+2-3+4-5... ...100 的值为:\", total)\n"
   ],
   "metadata": {
    "collapsed": false,
    "ExecuteTime": {
     "end_time": "2023-12-03T04:06:35.220850300Z",
     "start_time": "2023-12-03T04:06:35.179034900Z"
    }
   },
   "id": "3240f1a2b8f98249"
  },
  {
   "cell_type": "markdown",
   "source": [
    "# NO.71"
   ],
   "metadata": {
    "collapsed": false
   },
   "id": "19fdb41f22b0295e"
  },
  {
   "cell_type": "code",
   "execution_count": 26,
   "outputs": [
    {
     "name": "stdout",
     "output_type": "stream",
     "text": [
      "[1, 2]\n"
     ]
    }
   ],
   "source": [
    "original_list = [1, 2, 2]\n",
    "unique_list = list(set(original_list))\n",
    "print(unique_list)\n"
   ],
   "metadata": {
    "collapsed": false,
    "ExecuteTime": {
     "end_time": "2023-12-03T04:07:04.857881Z",
     "start_time": "2023-12-03T04:07:04.825807600Z"
    }
   },
   "id": "c523db46bd5535e8"
  },
  {
   "cell_type": "code",
   "execution_count": null,
   "outputs": [],
   "source": [],
   "metadata": {
    "collapsed": false
   },
   "id": "fe8809e98273e114"
  }
 ],
 "metadata": {
  "kernelspec": {
   "display_name": "Python 3",
   "language": "python",
   "name": "python3"
  },
  "language_info": {
   "codemirror_mode": {
    "name": "ipython",
    "version": 2
   },
   "file_extension": ".py",
   "mimetype": "text/x-python",
   "name": "python",
   "nbconvert_exporter": "python",
   "pygments_lexer": "ipython2",
   "version": "2.7.6"
  }
 },
 "nbformat": 4,
 "nbformat_minor": 5
}
