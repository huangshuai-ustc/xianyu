{
 "cells": [
  {
   "cell_type": "markdown",
   "metadata": {},
   "source": [
    "# 1.基本控制语句\n",
    "## 1.1循环控制\n",
    "for循环结构\n",
    "for 变量名 in 可迭代对象\n",
    "可迭代对象包括列表、元组、字典之类"
   ]
  },
  {
   "cell_type": "code",
   "execution_count": 3,
   "metadata": {
    "ExecuteTime": {
     "end_time": "2023-09-17T01:05:11.406829600Z",
     "start_time": "2023-09-17T01:05:11.340709200Z"
    }
   },
   "outputs": [
    {
     "name": "stdout",
     "output_type": "stream",
     "text": [
      "1\n",
      "2\n",
      "3\n",
      "1 4\n",
      "2 5\n",
      "3 6\n"
     ]
    }
   ],
   "source": [
    "x,y,z = [1,2,3],(4,5,6),{7,8,9}\n",
    "for i in x:\n",
    "    print(i)\n",
    "for i,j in zip(x,y):\n",
    "    print(i,j)\n",
    "for i,j,k in zip(x,y,z):\n",
    "    pass"
   ]
  },
  {
   "cell_type": "markdown",
   "metadata": {},
   "source": [
    "for 变量名 in range()\n",
    "for(int i=1;i<10;i++)\n",
    "for i in range(1,3):\n",
    "[1,3)"
   ]
  },
  {
   "cell_type": "code",
   "execution_count": 9,
   "metadata": {
    "ExecuteTime": {
     "end_time": "2023-09-17T01:09:59.384709600Z",
     "start_time": "2023-09-17T01:09:59.372689900Z"
    }
   },
   "outputs": [
    {
     "name": "stdout",
     "output_type": "stream",
     "text": [
      "0\n",
      "2\n",
      "4\n",
      "6\n",
      "8\n"
     ]
    }
   ],
   "source": [
    "for _ in range(3):\n",
    "    # print(i)\n",
    "    pass\n",
    "for i in range(1,3):\n",
    "    pass\n",
    "for i in range(0,10,2):\n",
    "    print(i)"
   ]
  },
  {
   "cell_type": "markdown",
   "metadata": {},
   "source": [
    "while循环结构\n",
    "while (bool条件):\n",
    "..."
   ]
  },
  {
   "cell_type": "code",
   "execution_count": null,
   "metadata": {},
   "outputs": [],
   "source": [
    "while True:\n",
    "    pass\n",
    "    #break\n",
    "    #continue"
   ]
  },
  {
   "cell_type": "code",
   "execution_count": 10,
   "metadata": {
    "ExecuteTime": {
     "end_time": "2023-09-17T01:14:00.318671700Z",
     "start_time": "2023-09-17T01:14:00.291968600Z"
    }
   },
   "outputs": [
    {
     "name": "stdout",
     "output_type": "stream",
     "text": [
      "1\n",
      "3\n"
     ]
    }
   ],
   "source": [
    "i = 1\n",
    "while i<5:\n",
    "    print(i)\n",
    "    i += 2"
   ]
  },
  {
   "cell_type": "markdown",
   "metadata": {},
   "source": [
    "## 1.2条件语句\n",
    "if (condition):\n",
    "...\n",
    "else:\n",
    "..."
   ]
  },
  {
   "cell_type": "code",
   "execution_count": 5,
   "metadata": {
    "ExecuteTime": {
     "end_time": "2023-09-16T11:08:14.214271200Z",
     "start_time": "2023-09-16T11:08:14.204729200Z"
    }
   },
   "outputs": [],
   "source": [
    "i = 1\n",
    "if i == 1:\n",
    "    pass\n",
    "else:\n",
    "    pass"
   ]
  },
  {
   "cell_type": "markdown",
   "metadata": {},
   "source": [
    "if (condition):\n",
    "...\n",
    "elif (condition1):\n",
    "..."
   ]
  },
  {
   "cell_type": "code",
   "execution_count": 6,
   "metadata": {
    "ExecuteTime": {
     "end_time": "2023-09-16T11:09:43.584295800Z",
     "start_time": "2023-09-16T11:09:43.561290200Z"
    }
   },
   "outputs": [],
   "source": [
    "i = 1\n",
    "if i == 1:\n",
    "    pass\n",
    "elif i == 2:\n",
    "    pass\n",
    "elif i!=1 and i!=2:\n",
    "    pass"
   ]
  },
  {
   "cell_type": "code",
   "execution_count": null,
   "metadata": {},
   "outputs": [],
   "source": [
    "var = {\n",
    "    1:'a',\n",
    "    2:'b'\n",
    "}\n",
    "if i==1:\n",
    "    print(var[1])"
   ]
  },
  {
   "cell_type": "markdown",
   "metadata": {},
   "source": [
    "# 2.random module"
   ]
  },
  {
   "cell_type": "code",
   "execution_count": 11,
   "metadata": {
    "ExecuteTime": {
     "end_time": "2023-09-17T01:21:50.636296300Z",
     "start_time": "2023-09-17T01:21:50.610490900Z"
    }
   },
   "outputs": [
    {
     "name": "stdout",
     "output_type": "stream",
     "text": [
      "67 0.7024979229136344 7 a\n"
     ]
    }
   ],
   "source": [
    "import random\n",
    "i = random.randint(1, 100) # 生成1-100的随机整数\n",
    "j = random.random() # 生成0-1之间的随机数\n",
    "k = random.randrange(1, 10, 3)\n",
    "# [1,4,7]\n",
    "a = random.choice(['a', 'b', 'c'])\n",
    "print(i, j, k, a)"
   ]
  },
  {
   "cell_type": "code",
   "execution_count": 14,
   "metadata": {
    "ExecuteTime": {
     "end_time": "2023-09-17T01:26:06.704587500Z",
     "start_time": "2023-09-17T01:26:04.263339Z"
    }
   },
   "outputs": [
    {
     "name": "stdout",
     "output_type": "stream",
     "text": [
      "a\n",
      "a\n"
     ]
    }
   ],
   "source": [
    "condi = True\n",
    "x = random.randint(0,3)\n",
    "while condi:\n",
    "    an = int(input())\n",
    "    if an == x:\n",
    "        condi = False\n",
    "print(x)"
   ]
  },
  {
   "cell_type": "markdown",
   "metadata": {},
   "source": [
    "# 3.function\n",
    "def a(var):return xxx\n",
    "def:定义函数关键字\n",
    "a:函数名\n",
    "var:参数\n",
    "return:返回值关键字\n",
    "xxx:返回内容"
   ]
  },
  {
   "cell_type": "code",
   "execution_count": 15,
   "metadata": {
    "ExecuteTime": {
     "end_time": "2023-09-17T01:30:01.676277900Z",
     "start_time": "2023-09-17T01:30:01.655205900Z"
    }
   },
   "outputs": [
    {
     "data": {
      "text/plain": [
       "1"
      ]
     },
     "execution_count": 15,
     "metadata": {},
     "output_type": "execute_result"
    }
   ],
   "source": [
    "def func(x):\n",
    "    return x\n",
    "\n",
    "print(func(1))"
   ]
  },
  {
   "cell_type": "markdown",
   "metadata": {},
   "source": [
    "## 3.1全局变量与局部变量"
   ]
  },
  {
   "cell_type": "code",
   "execution_count": 23,
   "metadata": {
    "ExecuteTime": {
     "end_time": "2023-09-17T01:36:37.823276700Z",
     "start_time": "2023-09-17T01:36:37.799987300Z"
    }
   },
   "outputs": [
    {
     "name": "stdout",
     "output_type": "stream",
     "text": [
      "进入first函数，给key赋新值，此时print(key)得到***first()的key***\n",
      "\n",
      "进入second函数，但是没有给key赋新值，此时print(key)得到***first()的key***\n",
      "\n",
      "进入third函数，给key赋新值，此时print(key)得到***third()的key***\n",
      "\n",
      "first()的key\n",
      "2\n"
     ]
    }
   ],
   "source": [
    "\n",
    "def first():\n",
    "    global key\n",
    "    key=\"first()的key\"\n",
    "    print(\"进入first函数，给key赋新值，此时print(key)得到***\"+key+\"***\\n\")\n",
    "def second():\n",
    "    print(\"进入second函数，但是没有给key赋新值，此时print(key)得到***\"+key+\"***\\n\")\n",
    "def third():\n",
    "    global xxxx\n",
    "    xxxx = 2\n",
    "    key=\"third()的key\"\n",
    "    print(\"进入third函数，给key赋新值，此时print(key)得到***\"+key+\"***\\n\")\n",
    "\n",
    "first()\n",
    "second()\n",
    "third()\n",
    "print(key)\n",
    "print(xxxx)"
   ]
  },
  {
   "cell_type": "code",
   "execution_count": 20,
   "metadata": {
    "ExecuteTime": {
     "end_time": "2023-09-17T01:33:47.447275500Z",
     "start_time": "2023-09-17T01:33:47.422364700Z"
    }
   },
   "outputs": [
    {
     "name": "stdout",
     "output_type": "stream",
     "text": [
      "1\n",
      "2\n"
     ]
    }
   ],
   "source": [
    "x = 1\n",
    "print(x)\n",
    "x = 2\n",
    "print(x)"
   ]
  },
  {
   "cell_type": "code",
   "execution_count": 35,
   "metadata": {
    "ExecuteTime": {
     "end_time": "2023-09-17T02:30:50.649927200Z",
     "start_time": "2023-09-17T02:30:50.626840900Z"
    }
   },
   "outputs": [
    {
     "name": "stdout",
     "output_type": "stream",
     "text": [
      "first()的key\n",
      "first()的key\n"
     ]
    }
   ],
   "source": [
    "from icecream import ic\n",
    "def first():\n",
    "    key=\"first()的key\"\n",
    "    return key\n",
    "def second():\n",
    "    print(key)\n",
    "\n",
    "ic(first())\n",
    "second()\n",
    "print(key)"
   ]
  },
  {
   "cell_type": "markdown",
   "metadata": {},
   "source": [
    "## 3.2递归程序\n",
    "斐波那契数列"
   ]
  },
  {
   "cell_type": "code",
   "execution_count": 25,
   "metadata": {
    "ExecuteTime": {
     "end_time": "2023-09-17T01:39:40.850607900Z",
     "start_time": "2023-09-17T01:39:40.803141700Z"
    }
   },
   "outputs": [
    {
     "data": {
      "text/plain": [
       "5"
      ]
     },
     "execution_count": 25,
     "metadata": {},
     "output_type": "execute_result"
    }
   ],
   "source": [
    "def fibonacci(i):\n",
    "    if i == 0 or i == 1:\n",
    "        return 1\n",
    "    else:\n",
    "        return fibonacci(i-1) + fibonacci(i-2)\n",
    "\n",
    "fibonacci(4)\n",
    "# [1,1,2,3,5]\n",
    "[0,1,1,2,3,5]"
   ]
  },
  {
   "cell_type": "code",
   "execution_count": 34,
   "metadata": {
    "ExecuteTime": {
     "end_time": "2023-09-17T02:11:40.839741600Z",
     "start_time": "2023-09-17T02:11:40.815719700Z"
    }
   },
   "outputs": [
    {
     "data": {
      "text/plain": [
       "5"
      ]
     },
     "execution_count": 34,
     "metadata": {},
     "output_type": "execute_result"
    }
   ],
   "source": [
    "def fun(c):\n",
    "    if c == 0:\n",
    "        return 0\n",
    "    if c == 1:\n",
    "        return 1\n",
    "    return fun(c-1) + fun(c-2)\n",
    "# fun(0)\n",
    "# fun(1)\n",
    "fun(5)"
   ]
  },
  {
   "cell_type": "code",
   "execution_count": 26,
   "metadata": {
    "ExecuteTime": {
     "end_time": "2023-09-17T01:41:56.634036400Z",
     "start_time": "2023-09-17T01:41:56.612647600Z"
    }
   },
   "outputs": [
    {
     "name": "stdout",
     "output_type": "stream",
     "text": [
      "1\n",
      "4\n",
      "9\n",
      "16\n",
      "25\n",
      "1\n",
      "4\n",
      "9\n",
      "16\n",
      "25\n"
     ]
    }
   ],
   "source": [
    "print(1**2)\n",
    "print(2**2)\n",
    "print(3**2)\n",
    "print(4**2)\n",
    "print(5**2)\n",
    "def sq(x):\n",
    "    return x ** 2\n",
    "for i in range(5):\n",
    "    print(sq(i+1))"
   ]
  },
  {
   "cell_type": "code",
   "execution_count": 28,
   "metadata": {
    "ExecuteTime": {
     "end_time": "2023-09-17T01:48:59.122868900Z",
     "start_time": "2023-09-17T01:48:59.053974100Z"
    }
   },
   "outputs": [
    {
     "data": {
      "text/plain": [
       "1"
      ]
     },
     "execution_count": 28,
     "metadata": {},
     "output_type": "execute_result"
    }
   ],
   "source": [
    "def sum(x):\n",
    "    return x\n",
    "sum(1)"
   ]
  },
  {
   "cell_type": "code",
   "execution_count": null,
   "metadata": {},
   "outputs": [],
   "source": []
  }
 ],
 "metadata": {
  "kernelspec": {
   "display_name": "Python 3 (ipykernel)",
   "language": "python",
   "name": "python3"
  },
  "language_info": {
   "codemirror_mode": {
    "name": "ipython",
    "version": 3
   },
   "file_extension": ".py",
   "mimetype": "text/x-python",
   "name": "python",
   "nbconvert_exporter": "python",
   "pygments_lexer": "ipython3",
   "version": "3.9.16"
  }
 },
 "nbformat": 4,
 "nbformat_minor": 1
}
